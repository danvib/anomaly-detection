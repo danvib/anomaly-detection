{
 "cells": [
  {
   "cell_type": "code",
   "execution_count": 319,
   "metadata": {},
   "outputs": [],
   "source": [
    "import pandas as pd\n",
    "import numpy as np\n",
    "from sklearn.impute import SimpleImputer\n",
    "from sklearn.ensemble import IsolationForest\n",
    "from sklearn.neighbors import LocalOutlierFactor\n",
    "from sklearn.preprocessing import OneHotEncoder\n",
    "import time"
   ]
  },
  {
   "cell_type": "markdown",
   "metadata": {},
   "source": [
    "Use LOF and Isolation forest to find anomalies. At the end, I ended up using only anomalies flagged by Isolation forest for my further analysis"
   ]
  },
  {
   "cell_type": "code",
   "execution_count": 320,
   "metadata": {},
   "outputs": [
    {
     "name": "stderr",
     "output_type": "stream",
     "text": [
      "C:\\Users\\v-krvibh\\anaconda3\\lib\\site-packages\\IPython\\core\\interactiveshell.py:3063: DtypeWarning: Columns (8) have mixed types.Specify dtype option on import or set low_memory=False.\n",
      "  interactivity=interactivity, compiler=compiler, result=result)\n"
     ]
    }
   ],
   "source": [
    "df_contract = pd.read_csv(\"contract_eng_consolidated.csv\")\n",
    "df_project = pd.read_csv('project_eng_consolidated_with_topics.csv')"
   ]
  },
  {
   "cell_type": "code",
   "execution_count": 185,
   "metadata": {},
   "outputs": [],
   "source": [
    "def find_columns_with_null(df):\n",
    "    null_columns = df.columns[df.isnull().any()]\n",
    "    return null_columns \n",
    "\n",
    "def find_null_columns_value(df):\n",
    "    null_columns = find_columns_with_null(df)\n",
    "    return df[null_columns].isnull().sum()\n",
    "    \n",
    "def find_column_percent_null(df):\n",
    "    null_columns = find_columns_with_null(df)\n",
    "    null_columns_percent = df[null_columns].isnull().sum()/len(df)\n",
    "    return null_columns_percent"
   ]
  },
  {
   "cell_type": "code",
   "execution_count": 209,
   "metadata": {},
   "outputs": [
    {
     "name": "stdout",
     "output_type": "stream",
     "text": [
      "Index(['project_type_name_eng', 'purchase_method_group_name_eng',\n",
      "       'project_status_eng', 'sum_price_agree_cleaned', 'dept_name_group',\n",
      "       'Topic_group'],\n",
      "      dtype='object')\n",
      "(397344, 6)\n"
     ]
    }
   ],
   "source": [
    "print(df_project.columns)\n",
    "print(df_project.shape)"
   ]
  },
  {
   "cell_type": "code",
   "execution_count": 187,
   "metadata": {},
   "outputs": [
    {
     "name": "stdout",
     "output_type": "stream",
     "text": [
      "project_type_name_eng 8\n",
      "purchase_method_group_name_eng 11\n",
      "province_eng 78\n",
      "project_status_eng 2\n",
      "district_eng 897\n",
      "announce_date_eng 1495\n",
      "transaction_date_eng 1660\n",
      "project_money_cleaned 114553\n",
      "price_build_cleaned 180204\n",
      "sum_price_agree_cleaned 143179\n",
      "dept_name_eng 17977\n",
      "budget_year_cleaned 5\n",
      "project_id 400988\n",
      "project_name 375355\n",
      "geom 53338\n",
      "dept_name_group 7\n",
      "Topic_group 20\n"
     ]
    }
   ],
   "source": [
    "for i in df_project.columns:\n",
    "    print(i, df_project[i].nunique())"
   ]
  },
  {
   "cell_type": "code",
   "execution_count": 207,
   "metadata": {},
   "outputs": [
    {
     "data": {
      "text/plain": [
       "array(['Bidding', 'E-bidding', 'Special', 'Hire consultants',\n",
       "       'Special cases', 'Price examination', 'Agreed price', 'E-market',\n",
       "       'selection', 'Specific'], dtype=object)"
      ]
     },
     "execution_count": 207,
     "metadata": {},
     "output_type": "execute_result"
    }
   ],
   "source": [
    "df_project['purchase_method_group_name_eng'].unique()"
   ]
  },
  {
   "cell_type": "code",
   "execution_count": 277,
   "metadata": {},
   "outputs": [],
   "source": [
    "### drop category that have less than 0.1% of the total row count\n",
    "df_project.drop(df_project[df_project['project_type_name_eng'] == 'Hire to design'].index, inplace=True)\n",
    "df_project.drop(df_project[df_project['project_type_name_eng'] == 'Hire to design and supervise'].index, inplace=True)\n",
    "df_project.drop(df_project[df_project['project_type_name_eng'] == 'Hire to supervise'].index, inplace=True)\n",
    "\n",
    "df_project.drop(df_project[df_project['purchase_method_group_name_eng'] == 'Bidding'].index, inplace=True)\n",
    "df_project.drop(df_project[df_project['purchase_method_group_name_eng'] == 'Agreed price'].index, inplace=True)\n",
    "df_project.drop(df_project[df_project['purchase_method_group_name_eng'] == 'E-market'].index, inplace=True)\n",
    "df_project.reset_index(drop=True,inplace = True)"
   ]
  },
  {
   "cell_type": "code",
   "execution_count": 278,
   "metadata": {},
   "outputs": [],
   "source": [
    "### delete columns that have too many unique categorical values\n",
    "detector_data = df_project.drop(columns=['province_eng','district_eng','announce_date_eng','transaction_date_eng','project_money_cleaned'])\n",
    "detector_data.drop(columns=['geom','project_id','price_build_cleaned','dept_name_eng','project_name','budget_year_cleaned'],inplace = True)"
   ]
  },
  {
   "cell_type": "code",
   "execution_count": 279,
   "metadata": {},
   "outputs": [
    {
     "data": {
      "text/plain": [
       "project_type_name_eng             object\n",
       "purchase_method_group_name_eng    object\n",
       "project_status_eng                object\n",
       "sum_price_agree_cleaned            int64\n",
       "dept_name_group                   object\n",
       "Topic_group                        int64\n",
       "dtype: object"
      ]
     },
     "execution_count": 279,
     "metadata": {},
     "output_type": "execute_result"
    }
   ],
   "source": [
    "detector_data.dtypes"
   ]
  },
  {
   "cell_type": "code",
   "execution_count": 280,
   "metadata": {},
   "outputs": [],
   "source": [
    "### standard scale numeric col\n",
    "### turn string col to onehot\n",
    "\n",
    "# Select numerical columns\n",
    "#numerical_cols = [cname for cname in df_project.columns if \n",
    "#                df_project[cname].dtype in ['int64', 'float64']]\n",
    "\n",
    "numerical_cols = ['sum_price_agree_cleaned']"
   ]
  },
  {
   "cell_type": "code",
   "execution_count": 321,
   "metadata": {},
   "outputs": [],
   "source": [
    "categorical_cols = [cname for cname in detector_data.columns if\n",
    "                    detector_data[cname].nunique() < 12 and \n",
    "                    detector_data[cname].dtype == \"object\"]\n",
    "categorical_cols.append('Topic_group')"
   ]
  },
  {
   "cell_type": "code",
   "execution_count": 284,
   "metadata": {},
   "outputs": [],
   "source": [
    "OH_encoder = OneHotEncoder(handle_unknown='ignore', sparse=False) #handle_unknown='ignore': if test has that new feature, ignore it\n",
    "OH_cols_train = pd.DataFrame(OH_encoder.fit_transform(detector_data[categorical_cols]))"
   ]
  },
  {
   "cell_type": "code",
   "execution_count": 285,
   "metadata": {},
   "outputs": [],
   "source": [
    "OH_cols_train.index = df_project.index"
   ]
  },
  {
   "cell_type": "code",
   "execution_count": 286,
   "metadata": {},
   "outputs": [],
   "source": [
    "OH_cols_train.columns = OH_encoder.get_feature_names()"
   ]
  },
  {
   "cell_type": "code",
   "execution_count": 287,
   "metadata": {},
   "outputs": [
    {
     "data": {
      "text/html": [
       "<div>\n",
       "<style scoped>\n",
       "    .dataframe tbody tr th:only-of-type {\n",
       "        vertical-align: middle;\n",
       "    }\n",
       "\n",
       "    .dataframe tbody tr th {\n",
       "        vertical-align: top;\n",
       "    }\n",
       "\n",
       "    .dataframe thead th {\n",
       "        text-align: right;\n",
       "    }\n",
       "</style>\n",
       "<table border=\"1\" class=\"dataframe\">\n",
       "  <thead>\n",
       "    <tr style=\"text-align: right;\">\n",
       "      <th></th>\n",
       "      <th>x0_Hire consultants</th>\n",
       "      <th>x0_Hire for construction</th>\n",
       "      <th>x0_Outsourcing / Contracting services</th>\n",
       "      <th>x0_buy</th>\n",
       "      <th>x0_rent</th>\n",
       "      <th>x1_E-bidding</th>\n",
       "      <th>x1_Hire consultants</th>\n",
       "      <th>x1_Price examination</th>\n",
       "      <th>x1_Special</th>\n",
       "      <th>x1_Special cases</th>\n",
       "      <th>...</th>\n",
       "      <th>x4_10</th>\n",
       "      <th>x4_11</th>\n",
       "      <th>x4_12</th>\n",
       "      <th>x4_13</th>\n",
       "      <th>x4_14</th>\n",
       "      <th>x4_15</th>\n",
       "      <th>x4_16</th>\n",
       "      <th>x4_17</th>\n",
       "      <th>x4_18</th>\n",
       "      <th>x4_19</th>\n",
       "    </tr>\n",
       "  </thead>\n",
       "  <tbody>\n",
       "    <tr>\n",
       "      <th>0</th>\n",
       "      <td>0.0</td>\n",
       "      <td>0.0</td>\n",
       "      <td>1.0</td>\n",
       "      <td>0.0</td>\n",
       "      <td>0.0</td>\n",
       "      <td>1.0</td>\n",
       "      <td>0.0</td>\n",
       "      <td>0.0</td>\n",
       "      <td>0.0</td>\n",
       "      <td>0.0</td>\n",
       "      <td>...</td>\n",
       "      <td>0.0</td>\n",
       "      <td>0.0</td>\n",
       "      <td>0.0</td>\n",
       "      <td>0.0</td>\n",
       "      <td>1.0</td>\n",
       "      <td>0.0</td>\n",
       "      <td>0.0</td>\n",
       "      <td>0.0</td>\n",
       "      <td>0.0</td>\n",
       "      <td>0.0</td>\n",
       "    </tr>\n",
       "    <tr>\n",
       "      <th>1</th>\n",
       "      <td>0.0</td>\n",
       "      <td>0.0</td>\n",
       "      <td>0.0</td>\n",
       "      <td>1.0</td>\n",
       "      <td>0.0</td>\n",
       "      <td>0.0</td>\n",
       "      <td>0.0</td>\n",
       "      <td>0.0</td>\n",
       "      <td>1.0</td>\n",
       "      <td>0.0</td>\n",
       "      <td>...</td>\n",
       "      <td>0.0</td>\n",
       "      <td>0.0</td>\n",
       "      <td>0.0</td>\n",
       "      <td>0.0</td>\n",
       "      <td>0.0</td>\n",
       "      <td>0.0</td>\n",
       "      <td>0.0</td>\n",
       "      <td>0.0</td>\n",
       "      <td>0.0</td>\n",
       "      <td>0.0</td>\n",
       "    </tr>\n",
       "    <tr>\n",
       "      <th>2</th>\n",
       "      <td>0.0</td>\n",
       "      <td>1.0</td>\n",
       "      <td>0.0</td>\n",
       "      <td>0.0</td>\n",
       "      <td>0.0</td>\n",
       "      <td>1.0</td>\n",
       "      <td>0.0</td>\n",
       "      <td>0.0</td>\n",
       "      <td>0.0</td>\n",
       "      <td>0.0</td>\n",
       "      <td>...</td>\n",
       "      <td>0.0</td>\n",
       "      <td>0.0</td>\n",
       "      <td>0.0</td>\n",
       "      <td>0.0</td>\n",
       "      <td>0.0</td>\n",
       "      <td>0.0</td>\n",
       "      <td>0.0</td>\n",
       "      <td>0.0</td>\n",
       "      <td>0.0</td>\n",
       "      <td>0.0</td>\n",
       "    </tr>\n",
       "    <tr>\n",
       "      <th>3</th>\n",
       "      <td>0.0</td>\n",
       "      <td>0.0</td>\n",
       "      <td>0.0</td>\n",
       "      <td>1.0</td>\n",
       "      <td>0.0</td>\n",
       "      <td>0.0</td>\n",
       "      <td>0.0</td>\n",
       "      <td>0.0</td>\n",
       "      <td>1.0</td>\n",
       "      <td>0.0</td>\n",
       "      <td>...</td>\n",
       "      <td>0.0</td>\n",
       "      <td>0.0</td>\n",
       "      <td>0.0</td>\n",
       "      <td>0.0</td>\n",
       "      <td>0.0</td>\n",
       "      <td>0.0</td>\n",
       "      <td>0.0</td>\n",
       "      <td>0.0</td>\n",
       "      <td>0.0</td>\n",
       "      <td>0.0</td>\n",
       "    </tr>\n",
       "    <tr>\n",
       "      <th>4</th>\n",
       "      <td>0.0</td>\n",
       "      <td>0.0</td>\n",
       "      <td>0.0</td>\n",
       "      <td>1.0</td>\n",
       "      <td>0.0</td>\n",
       "      <td>0.0</td>\n",
       "      <td>0.0</td>\n",
       "      <td>0.0</td>\n",
       "      <td>1.0</td>\n",
       "      <td>0.0</td>\n",
       "      <td>...</td>\n",
       "      <td>0.0</td>\n",
       "      <td>0.0</td>\n",
       "      <td>0.0</td>\n",
       "      <td>0.0</td>\n",
       "      <td>0.0</td>\n",
       "      <td>0.0</td>\n",
       "      <td>0.0</td>\n",
       "      <td>0.0</td>\n",
       "      <td>0.0</td>\n",
       "      <td>1.0</td>\n",
       "    </tr>\n",
       "    <tr>\n",
       "      <th>...</th>\n",
       "      <td>...</td>\n",
       "      <td>...</td>\n",
       "      <td>...</td>\n",
       "      <td>...</td>\n",
       "      <td>...</td>\n",
       "      <td>...</td>\n",
       "      <td>...</td>\n",
       "      <td>...</td>\n",
       "      <td>...</td>\n",
       "      <td>...</td>\n",
       "      <td>...</td>\n",
       "      <td>...</td>\n",
       "      <td>...</td>\n",
       "      <td>...</td>\n",
       "      <td>...</td>\n",
       "      <td>...</td>\n",
       "      <td>...</td>\n",
       "      <td>...</td>\n",
       "      <td>...</td>\n",
       "      <td>...</td>\n",
       "      <td>...</td>\n",
       "    </tr>\n",
       "    <tr>\n",
       "      <th>397339</th>\n",
       "      <td>0.0</td>\n",
       "      <td>1.0</td>\n",
       "      <td>0.0</td>\n",
       "      <td>0.0</td>\n",
       "      <td>0.0</td>\n",
       "      <td>1.0</td>\n",
       "      <td>0.0</td>\n",
       "      <td>0.0</td>\n",
       "      <td>0.0</td>\n",
       "      <td>0.0</td>\n",
       "      <td>...</td>\n",
       "      <td>0.0</td>\n",
       "      <td>0.0</td>\n",
       "      <td>0.0</td>\n",
       "      <td>0.0</td>\n",
       "      <td>0.0</td>\n",
       "      <td>0.0</td>\n",
       "      <td>0.0</td>\n",
       "      <td>0.0</td>\n",
       "      <td>0.0</td>\n",
       "      <td>0.0</td>\n",
       "    </tr>\n",
       "    <tr>\n",
       "      <th>397340</th>\n",
       "      <td>0.0</td>\n",
       "      <td>0.0</td>\n",
       "      <td>0.0</td>\n",
       "      <td>1.0</td>\n",
       "      <td>0.0</td>\n",
       "      <td>1.0</td>\n",
       "      <td>0.0</td>\n",
       "      <td>0.0</td>\n",
       "      <td>0.0</td>\n",
       "      <td>0.0</td>\n",
       "      <td>...</td>\n",
       "      <td>0.0</td>\n",
       "      <td>0.0</td>\n",
       "      <td>0.0</td>\n",
       "      <td>0.0</td>\n",
       "      <td>0.0</td>\n",
       "      <td>0.0</td>\n",
       "      <td>0.0</td>\n",
       "      <td>0.0</td>\n",
       "      <td>0.0</td>\n",
       "      <td>0.0</td>\n",
       "    </tr>\n",
       "    <tr>\n",
       "      <th>397341</th>\n",
       "      <td>0.0</td>\n",
       "      <td>1.0</td>\n",
       "      <td>0.0</td>\n",
       "      <td>0.0</td>\n",
       "      <td>0.0</td>\n",
       "      <td>1.0</td>\n",
       "      <td>0.0</td>\n",
       "      <td>0.0</td>\n",
       "      <td>0.0</td>\n",
       "      <td>0.0</td>\n",
       "      <td>...</td>\n",
       "      <td>0.0</td>\n",
       "      <td>0.0</td>\n",
       "      <td>0.0</td>\n",
       "      <td>0.0</td>\n",
       "      <td>0.0</td>\n",
       "      <td>0.0</td>\n",
       "      <td>0.0</td>\n",
       "      <td>0.0</td>\n",
       "      <td>0.0</td>\n",
       "      <td>0.0</td>\n",
       "    </tr>\n",
       "    <tr>\n",
       "      <th>397342</th>\n",
       "      <td>0.0</td>\n",
       "      <td>1.0</td>\n",
       "      <td>0.0</td>\n",
       "      <td>0.0</td>\n",
       "      <td>0.0</td>\n",
       "      <td>1.0</td>\n",
       "      <td>0.0</td>\n",
       "      <td>0.0</td>\n",
       "      <td>0.0</td>\n",
       "      <td>0.0</td>\n",
       "      <td>...</td>\n",
       "      <td>0.0</td>\n",
       "      <td>0.0</td>\n",
       "      <td>0.0</td>\n",
       "      <td>0.0</td>\n",
       "      <td>0.0</td>\n",
       "      <td>0.0</td>\n",
       "      <td>0.0</td>\n",
       "      <td>0.0</td>\n",
       "      <td>1.0</td>\n",
       "      <td>0.0</td>\n",
       "    </tr>\n",
       "    <tr>\n",
       "      <th>397343</th>\n",
       "      <td>0.0</td>\n",
       "      <td>1.0</td>\n",
       "      <td>0.0</td>\n",
       "      <td>0.0</td>\n",
       "      <td>0.0</td>\n",
       "      <td>1.0</td>\n",
       "      <td>0.0</td>\n",
       "      <td>0.0</td>\n",
       "      <td>0.0</td>\n",
       "      <td>0.0</td>\n",
       "      <td>...</td>\n",
       "      <td>0.0</td>\n",
       "      <td>0.0</td>\n",
       "      <td>1.0</td>\n",
       "      <td>0.0</td>\n",
       "      <td>0.0</td>\n",
       "      <td>0.0</td>\n",
       "      <td>0.0</td>\n",
       "      <td>0.0</td>\n",
       "      <td>0.0</td>\n",
       "      <td>0.0</td>\n",
       "    </tr>\n",
       "  </tbody>\n",
       "</table>\n",
       "<p>397344 rows × 41 columns</p>\n",
       "</div>"
      ],
      "text/plain": [
       "        x0_Hire consultants  x0_Hire for construction  \\\n",
       "0                       0.0                       0.0   \n",
       "1                       0.0                       0.0   \n",
       "2                       0.0                       1.0   \n",
       "3                       0.0                       0.0   \n",
       "4                       0.0                       0.0   \n",
       "...                     ...                       ...   \n",
       "397339                  0.0                       1.0   \n",
       "397340                  0.0                       0.0   \n",
       "397341                  0.0                       1.0   \n",
       "397342                  0.0                       1.0   \n",
       "397343                  0.0                       1.0   \n",
       "\n",
       "        x0_Outsourcing / Contracting services  x0_buy  x0_rent  x1_E-bidding  \\\n",
       "0                                         1.0     0.0      0.0           1.0   \n",
       "1                                         0.0     1.0      0.0           0.0   \n",
       "2                                         0.0     0.0      0.0           1.0   \n",
       "3                                         0.0     1.0      0.0           0.0   \n",
       "4                                         0.0     1.0      0.0           0.0   \n",
       "...                                       ...     ...      ...           ...   \n",
       "397339                                    0.0     0.0      0.0           1.0   \n",
       "397340                                    0.0     1.0      0.0           1.0   \n",
       "397341                                    0.0     0.0      0.0           1.0   \n",
       "397342                                    0.0     0.0      0.0           1.0   \n",
       "397343                                    0.0     0.0      0.0           1.0   \n",
       "\n",
       "        x1_Hire consultants  x1_Price examination  x1_Special  \\\n",
       "0                       0.0                   0.0         0.0   \n",
       "1                       0.0                   0.0         1.0   \n",
       "2                       0.0                   0.0         0.0   \n",
       "3                       0.0                   0.0         1.0   \n",
       "4                       0.0                   0.0         1.0   \n",
       "...                     ...                   ...         ...   \n",
       "397339                  0.0                   0.0         0.0   \n",
       "397340                  0.0                   0.0         0.0   \n",
       "397341                  0.0                   0.0         0.0   \n",
       "397342                  0.0                   0.0         0.0   \n",
       "397343                  0.0                   0.0         0.0   \n",
       "\n",
       "        x1_Special cases  ...  x4_10  x4_11  x4_12  x4_13  x4_14  x4_15  \\\n",
       "0                    0.0  ...    0.0    0.0    0.0    0.0    1.0    0.0   \n",
       "1                    0.0  ...    0.0    0.0    0.0    0.0    0.0    0.0   \n",
       "2                    0.0  ...    0.0    0.0    0.0    0.0    0.0    0.0   \n",
       "3                    0.0  ...    0.0    0.0    0.0    0.0    0.0    0.0   \n",
       "4                    0.0  ...    0.0    0.0    0.0    0.0    0.0    0.0   \n",
       "...                  ...  ...    ...    ...    ...    ...    ...    ...   \n",
       "397339               0.0  ...    0.0    0.0    0.0    0.0    0.0    0.0   \n",
       "397340               0.0  ...    0.0    0.0    0.0    0.0    0.0    0.0   \n",
       "397341               0.0  ...    0.0    0.0    0.0    0.0    0.0    0.0   \n",
       "397342               0.0  ...    0.0    0.0    0.0    0.0    0.0    0.0   \n",
       "397343               0.0  ...    0.0    0.0    1.0    0.0    0.0    0.0   \n",
       "\n",
       "        x4_16  x4_17  x4_18  x4_19  \n",
       "0         0.0    0.0    0.0    0.0  \n",
       "1         0.0    0.0    0.0    0.0  \n",
       "2         0.0    0.0    0.0    0.0  \n",
       "3         0.0    0.0    0.0    0.0  \n",
       "4         0.0    0.0    0.0    1.0  \n",
       "...       ...    ...    ...    ...  \n",
       "397339    0.0    0.0    0.0    0.0  \n",
       "397340    0.0    0.0    0.0    0.0  \n",
       "397341    0.0    0.0    0.0    0.0  \n",
       "397342    0.0    0.0    1.0    0.0  \n",
       "397343    0.0    0.0    0.0    0.0  \n",
       "\n",
       "[397344 rows x 41 columns]"
      ]
     },
     "execution_count": 287,
     "metadata": {},
     "output_type": "execute_result"
    }
   ],
   "source": [
    "OH_cols_train"
   ]
  },
  {
   "cell_type": "code",
   "execution_count": 288,
   "metadata": {},
   "outputs": [],
   "source": [
    "X = pd.concat([detector_data[numerical_cols], OH_cols_train.reset_index(drop=True)], axis=1)"
   ]
  },
  {
   "cell_type": "code",
   "execution_count": 323,
   "metadata": {},
   "outputs": [
    {
     "name": "stdout",
     "output_type": "stream",
     "text": [
      "105.32008814811707 seconds\n"
     ]
    }
   ],
   "source": [
    "current = time.time()\n",
    "\n",
    "\n",
    "outlier_detect = IsolationForest(n_estimators=100, max_samples=0.8, contamination=.001,max_features = 0.8, random_state = 4) \n",
    "# might need to change max features\n",
    "\n",
    "outliers_predicted = outlier_detect.fit_predict(X)\n",
    "now = time.time()\n",
    "print(now- current, 'seconds')\n"
   ]
  },
  {
   "cell_type": "code",
   "execution_count": 324,
   "metadata": {},
   "outputs": [
    {
     "data": {
      "text/plain": [
       "(398,)"
      ]
     },
     "execution_count": 324,
     "metadata": {},
     "output_type": "execute_result"
    }
   ],
   "source": [
    "outliers_predicted[outliers_predicted==-1].shape"
   ]
  },
  {
   "cell_type": "code",
   "execution_count": 309,
   "metadata": {},
   "outputs": [],
   "source": [
    "df_project['iForest_outlier'] = outliers_predicted"
   ]
  },
  {
   "cell_type": "code",
   "execution_count": 310,
   "metadata": {},
   "outputs": [],
   "source": [
    "df_project.to_csv('anomaly_model_v4.csv',index=False)"
   ]
  },
  {
   "cell_type": "code",
   "execution_count": 318,
   "metadata": {},
   "outputs": [],
   "source": [
    "temp = outlier_detect.decision_function(X)"
   ]
  },
  {
   "cell_type": "code",
   "execution_count": 313,
   "metadata": {},
   "outputs": [
    {
     "data": {
      "text/plain": [
       "array([-1,  1])"
      ]
     },
     "execution_count": 313,
     "metadata": {},
     "output_type": "execute_result"
    }
   ],
   "source": [
    "outliers_predicted[1:3]"
   ]
  },
  {
   "cell_type": "code",
   "execution_count": 169,
   "metadata": {},
   "outputs": [
    {
     "name": "stdout",
     "output_type": "stream",
     "text": [
      "41.6827597618103 seconds\n"
     ]
    }
   ],
   "source": [
    "'''\n",
    "In practice,taking n_neighbors=20 appears to work well in general. When the proportion of outliers is high \n",
    "(i.e. greater than 10 %, as in the example below), n_neighbors should be greater (n_neighbors=35 in the example below). \n",
    "how isolated it is with respect to the surrounding neighborhood.\n",
    "'''\n",
    "\n",
    "current = time.time()\n",
    "LOF = LocalOutlierFactor(n_neighbors=20,contamination = 0.001)\n",
    "y_pred = LOF.fit_predict(X)\n",
    "now = time.time()\n",
    "print(now- current, 'seconds')"
   ]
  },
  {
   "cell_type": "code",
   "execution_count": 170,
   "metadata": {},
   "outputs": [],
   "source": [
    "df_project['LOF_outlier'] = y_pred"
   ]
  },
  {
   "cell_type": "code",
   "execution_count": 82,
   "metadata": {},
   "outputs": [
    {
     "data": {
      "text/html": [
       "<div>\n",
       "<style scoped>\n",
       "    .dataframe tbody tr th:only-of-type {\n",
       "        vertical-align: middle;\n",
       "    }\n",
       "\n",
       "    .dataframe tbody tr th {\n",
       "        vertical-align: top;\n",
       "    }\n",
       "\n",
       "    .dataframe thead th {\n",
       "        text-align: right;\n",
       "    }\n",
       "</style>\n",
       "<table border=\"1\" class=\"dataframe\">\n",
       "  <thead>\n",
       "    <tr style=\"text-align: right;\">\n",
       "      <th></th>\n",
       "      <th>project_type_name_eng</th>\n",
       "      <th>purchase_method_group_name_eng</th>\n",
       "      <th>province_eng</th>\n",
       "      <th>project_status_eng</th>\n",
       "      <th>district_eng</th>\n",
       "      <th>announce_date_eng</th>\n",
       "      <th>transaction_date_eng</th>\n",
       "      <th>project_money_cleaned</th>\n",
       "      <th>price_build_cleaned</th>\n",
       "      <th>sum_price_agree_cleaned</th>\n",
       "      <th>dept_name_eng</th>\n",
       "      <th>budget_year_cleaned</th>\n",
       "      <th>project_id</th>\n",
       "      <th>project_name</th>\n",
       "      <th>geom</th>\n",
       "      <th>dept_name_group</th>\n",
       "      <th>Topic_group</th>\n",
       "      <th>Iso_Forest_outlier</th>\n",
       "      <th>LOF_outlier</th>\n",
       "    </tr>\n",
       "  </thead>\n",
       "  <tbody>\n",
       "    <tr>\n",
       "      <th>0</th>\n",
       "      <td>Hire for construction</td>\n",
       "      <td>Bidding</td>\n",
       "      <td>Nonthaburi</td>\n",
       "      <td>In progress</td>\n",
       "      <td>Bang Kruai</td>\n",
       "      <td>2 Apr 2013</td>\n",
       "      <td>9 March 2015</td>\n",
       "      <td>0</td>\n",
       "      <td>0</td>\n",
       "      <td>70624000000</td>\n",
       "      <td>Electricity Generating Authority of Thailand</td>\n",
       "      <td>2015</td>\n",
       "      <td>56045006726</td>\n",
       "      <td>ประกวดราคาจ้างซื้อและจ้างก่อสร้างโรงไฟฟ้าเพื่อ...</td>\n",
       "      <td>POINT(100.498178770987 13.8068549692447)</td>\n",
       "      <td>Other</td>\n",
       "      <td>4</td>\n",
       "      <td>-1</td>\n",
       "      <td>1</td>\n",
       "    </tr>\n",
       "    <tr>\n",
       "      <th>1</th>\n",
       "      <td>Outsourcing / Contracting services</td>\n",
       "      <td>Bidding</td>\n",
       "      <td>Nonthaburi</td>\n",
       "      <td>In progress</td>\n",
       "      <td>Bang Kruai</td>\n",
       "      <td>21 Nov 2014</td>\n",
       "      <td>26 Aug 2015</td>\n",
       "      <td>30000000000</td>\n",
       "      <td>26910000000</td>\n",
       "      <td>22871000000</td>\n",
       "      <td>Electricity Generating Authority of Thailand</td>\n",
       "      <td>2015</td>\n",
       "      <td>57115200071</td>\n",
       "      <td>ประกวดราคาจ้างเหมาขุด-ขนดินและถ่าน ที่เหมืองแม...</td>\n",
       "      <td>POINT(100.498178770987 13.8068549692447)</td>\n",
       "      <td>Other</td>\n",
       "      <td>14</td>\n",
       "      <td>-1</td>\n",
       "      <td>1</td>\n",
       "    </tr>\n",
       "    <tr>\n",
       "      <th>2</th>\n",
       "      <td>Outsourcing / Contracting services</td>\n",
       "      <td>E-bidding</td>\n",
       "      <td>Bangkok</td>\n",
       "      <td>In progress</td>\n",
       "      <td>Din</td>\n",
       "      <td>27 Aug 2014</td>\n",
       "      <td>13 Oct 2014</td>\n",
       "      <td>4455190000</td>\n",
       "      <td>4480010000</td>\n",
       "      <td>4436575000</td>\n",
       "      <td>Bangkok</td>\n",
       "      <td>2015</td>\n",
       "      <td>57085094977</td>\n",
       "      <td>ประกวดราคาจ้างเหมาเอกชนขนมูลฝอยจากศูนย์กำจัดมู...</td>\n",
       "      <td>POINT(100.565063509801 13.7780980259196)</td>\n",
       "      <td>Other</td>\n",
       "      <td>14</td>\n",
       "      <td>1</td>\n",
       "      <td>1</td>\n",
       "    </tr>\n",
       "    <tr>\n",
       "      <th>3</th>\n",
       "      <td>buy</td>\n",
       "      <td>Special</td>\n",
       "      <td>Bangkok</td>\n",
       "      <td>In progress</td>\n",
       "      <td>Dusit</td>\n",
       "      <td>NaN</td>\n",
       "      <td>28 Jan 2015</td>\n",
       "      <td>2800000000</td>\n",
       "      <td>2799999972</td>\n",
       "      <td>2725935375</td>\n",
       "      <td>Army</td>\n",
       "      <td>2015</td>\n",
       "      <td>57085194402</td>\n",
       "      <td>ซื้อฮ.ท.ขนาดเบา แบบที่ 2 จำนวน 6 เครื่อง โดยวิ...</td>\n",
       "      <td>POINT(100.519873059321 13.7873113160748)</td>\n",
       "      <td>Other</td>\n",
       "      <td>6</td>\n",
       "      <td>1</td>\n",
       "      <td>1</td>\n",
       "    </tr>\n",
       "    <tr>\n",
       "      <th>4</th>\n",
       "      <td>Hire for construction</td>\n",
       "      <td>E-bidding</td>\n",
       "      <td>Bangkok</td>\n",
       "      <td>In progress</td>\n",
       "      <td>Chatuchak</td>\n",
       "      <td>25 Mar 2014</td>\n",
       "      <td>9 Oct 2014</td>\n",
       "      <td>2599999769</td>\n",
       "      <td>2599999769</td>\n",
       "      <td>2588950000</td>\n",
       "      <td>Army</td>\n",
       "      <td>2015</td>\n",
       "      <td>57035180671</td>\n",
       "      <td>ประกวดราคาจ้างก่อสร้างอาคารเฉลิมพระเกียรติ สมเ...</td>\n",
       "      <td>POINT(100.584152190858 13.8453156541146)</td>\n",
       "      <td>Other</td>\n",
       "      <td>3</td>\n",
       "      <td>1</td>\n",
       "      <td>1</td>\n",
       "    </tr>\n",
       "  </tbody>\n",
       "</table>\n",
       "</div>"
      ],
      "text/plain": [
       "                project_type_name_eng purchase_method_group_name_eng  \\\n",
       "0               Hire for construction                        Bidding   \n",
       "1  Outsourcing / Contracting services                        Bidding   \n",
       "2  Outsourcing / Contracting services                      E-bidding   \n",
       "3                                 buy                        Special   \n",
       "4               Hire for construction                      E-bidding   \n",
       "\n",
       "  province_eng project_status_eng district_eng announce_date_eng  \\\n",
       "0   Nonthaburi        In progress   Bang Kruai        2 Apr 2013   \n",
       "1   Nonthaburi        In progress   Bang Kruai       21 Nov 2014   \n",
       "2      Bangkok        In progress          Din       27 Aug 2014   \n",
       "3      Bangkok        In progress        Dusit               NaN   \n",
       "4      Bangkok        In progress    Chatuchak       25 Mar 2014   \n",
       "\n",
       "  transaction_date_eng  project_money_cleaned price_build_cleaned  \\\n",
       "0         9 March 2015                      0                   0   \n",
       "1          26 Aug 2015            30000000000         26910000000   \n",
       "2          13 Oct 2014             4455190000          4480010000   \n",
       "3          28 Jan 2015             2800000000          2799999972   \n",
       "4           9 Oct 2014             2599999769          2599999769   \n",
       "\n",
       "   sum_price_agree_cleaned                                 dept_name_eng  \\\n",
       "0              70624000000  Electricity Generating Authority of Thailand   \n",
       "1              22871000000  Electricity Generating Authority of Thailand   \n",
       "2               4436575000                                       Bangkok   \n",
       "3               2725935375                                          Army   \n",
       "4               2588950000                                          Army   \n",
       "\n",
       "   budget_year_cleaned   project_id  \\\n",
       "0                 2015  56045006726   \n",
       "1                 2015  57115200071   \n",
       "2                 2015  57085094977   \n",
       "3                 2015  57085194402   \n",
       "4                 2015  57035180671   \n",
       "\n",
       "                                        project_name  \\\n",
       "0  ประกวดราคาจ้างซื้อและจ้างก่อสร้างโรงไฟฟ้าเพื่อ...   \n",
       "1  ประกวดราคาจ้างเหมาขุด-ขนดินและถ่าน ที่เหมืองแม...   \n",
       "2  ประกวดราคาจ้างเหมาเอกชนขนมูลฝอยจากศูนย์กำจัดมู...   \n",
       "3  ซื้อฮ.ท.ขนาดเบา แบบที่ 2 จำนวน 6 เครื่อง โดยวิ...   \n",
       "4  ประกวดราคาจ้างก่อสร้างอาคารเฉลิมพระเกียรติ สมเ...   \n",
       "\n",
       "                                       geom dept_name_group  Topic_group  \\\n",
       "0  POINT(100.498178770987 13.8068549692447)           Other            4   \n",
       "1  POINT(100.498178770987 13.8068549692447)           Other           14   \n",
       "2  POINT(100.565063509801 13.7780980259196)           Other           14   \n",
       "3  POINT(100.519873059321 13.7873113160748)           Other            6   \n",
       "4  POINT(100.584152190858 13.8453156541146)           Other            3   \n",
       "\n",
       "   Iso_Forest_outlier  LOF_outlier  \n",
       "0                  -1            1  \n",
       "1                  -1            1  \n",
       "2                   1            1  \n",
       "3                   1            1  \n",
       "4                   1            1  "
      ]
     },
     "execution_count": 82,
     "metadata": {},
     "output_type": "execute_result"
    }
   ],
   "source": [
    "df_project.head()"
   ]
  },
  {
   "cell_type": "code",
   "execution_count": 171,
   "metadata": {},
   "outputs": [],
   "source": [
    "df_project.to_csv('test_LOF.csv',index=False)"
   ]
  },
  {
   "cell_type": "code",
   "execution_count": 173,
   "metadata": {},
   "outputs": [
    {
     "name": "stdout",
     "output_type": "stream",
     "text": [
      "44.07441425323486 seconds\n"
     ]
    }
   ],
   "source": [
    "current = time.time()\n",
    "\n",
    "LOF2 = LocalOutlierFactor(n_neighbors=20)\n",
    "y_pred2 = LOF2.fit_predict(X)\n",
    "\n",
    "now = time.time()\n",
    "print(now- current, 'seconds')"
   ]
  },
  {
   "cell_type": "code",
   "execution_count": 305,
   "metadata": {},
   "outputs": [
    {
     "data": {
      "text/plain": [
       "pandas.core.series.Series"
      ]
     },
     "execution_count": 305,
     "metadata": {},
     "output_type": "execute_result"
    }
   ],
   "source": [
    "type(OH_cols_train['x0_Hire consultants'])"
   ]
  }
 ],
 "metadata": {
  "kernelspec": {
   "display_name": "Python 3",
   "language": "python",
   "name": "python3"
  },
  "language_info": {
   "codemirror_mode": {
    "name": "ipython",
    "version": 3
   },
   "file_extension": ".py",
   "mimetype": "text/x-python",
   "name": "python",
   "nbconvert_exporter": "python",
   "pygments_lexer": "ipython3",
   "version": "3.7.6"
  }
 },
 "nbformat": 4,
 "nbformat_minor": 4
}
