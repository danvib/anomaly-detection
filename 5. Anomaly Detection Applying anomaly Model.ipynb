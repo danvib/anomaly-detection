{
 "cells": [
  {
   "cell_type": "code",
   "execution_count": 1,
   "metadata": {},
   "outputs": [],
   "source": [
    "import pandas as pd\n",
    "import numpy as np\n",
    "from sklearn.impute import SimpleImputer\n",
    "from sklearn.ensemble import IsolationForest\n",
    "from sklearn.neighbors import LocalOutlierFactor\n",
    "from sklearn.preprocessing import OneHotEncoder\n",
    "import time"
   ]
  },
  {
   "cell_type": "markdown",
   "metadata": {},
   "source": [
    "Use LOF and Isolation forest to find anomalies. At the end, I ended up using only anomalies flagged by Isolation forest for my further analysis"
   ]
  },
  {
   "cell_type": "code",
   "execution_count": 2,
   "metadata": {},
   "outputs": [
    {
     "name": "stderr",
     "output_type": "stream",
     "text": [
      "C:\\Users\\v-krvibh\\anaconda3\\lib\\site-packages\\IPython\\core\\interactiveshell.py:3063: DtypeWarning: Columns (8) have mixed types.Specify dtype option on import or set low_memory=False.\n",
      "  interactivity=interactivity, compiler=compiler, result=result)\n"
     ]
    }
   ],
   "source": [
    "df_contract = pd.read_csv(\"contract_eng_consolidated.csv\")\n",
    "df_project = pd.read_csv('project_eng_consolidated_with_topics.csv')"
   ]
  },
  {
   "cell_type": "code",
   "execution_count": 185,
   "metadata": {},
   "outputs": [],
   "source": [
    "def find_columns_with_null(df):\n",
    "    null_columns = df.columns[df.isnull().any()]\n",
    "    return null_columns \n",
    "\n",
    "def find_null_columns_value(df):\n",
    "    null_columns = find_columns_with_null(df)\n",
    "    return df[null_columns].isnull().sum()\n",
    "    \n",
    "def find_column_percent_null(df):\n",
    "    null_columns = find_columns_with_null(df)\n",
    "    null_columns_percent = df[null_columns].isnull().sum()/len(df)\n",
    "    return null_columns_percent"
   ]
  },
  {
   "cell_type": "code",
   "execution_count": 3,
   "metadata": {},
   "outputs": [
    {
     "name": "stdout",
     "output_type": "stream",
     "text": [
      "Index(['project_type_name_eng', 'purchase_method_group_name_eng',\n",
      "       'province_eng', 'project_status_eng', 'district_eng',\n",
      "       'announce_date_eng', 'transaction_date_eng', 'project_money_cleaned',\n",
      "       'price_build_cleaned', 'sum_price_agree_cleaned', 'dept_name_eng',\n",
      "       'budget_year_cleaned', 'project_id', 'project_name', 'geom',\n",
      "       'dept_name_group', 'Topic_group'],\n",
      "      dtype='object')\n",
      "(401219, 17)\n"
     ]
    }
   ],
   "source": [
    "print(df_project.columns)\n",
    "print(df_project.shape)"
   ]
  },
  {
   "cell_type": "code",
   "execution_count": 4,
   "metadata": {},
   "outputs": [
    {
     "name": "stdout",
     "output_type": "stream",
     "text": [
      "project_type_name_eng 8\n",
      "purchase_method_group_name_eng 11\n",
      "province_eng 78\n",
      "project_status_eng 2\n",
      "district_eng 897\n",
      "announce_date_eng 1495\n",
      "transaction_date_eng 1660\n",
      "project_money_cleaned 114553\n",
      "price_build_cleaned 180204\n",
      "sum_price_agree_cleaned 143179\n",
      "dept_name_eng 17977\n",
      "budget_year_cleaned 5\n",
      "project_id 400988\n",
      "project_name 375355\n",
      "geom 53338\n",
      "dept_name_group 7\n",
      "Topic_group 20\n"
     ]
    }
   ],
   "source": [
    "for i in df_project.columns:\n",
    "    print(i, df_project[i].nunique())"
   ]
  },
  {
   "cell_type": "code",
   "execution_count": 5,
   "metadata": {},
   "outputs": [
    {
     "data": {
      "text/plain": [
       "array(['Bidding', 'E-bidding', 'Special', 'Hire consultants',\n",
       "       'Special cases', 'Price examination', 'Agreed price', 'E-market',\n",
       "       'Hire to design', 'selection', 'Specific'], dtype=object)"
      ]
     },
     "execution_count": 5,
     "metadata": {},
     "output_type": "execute_result"
    }
   ],
   "source": [
    "df_project['purchase_method_group_name_eng'].unique()"
   ]
  },
  {
   "cell_type": "code",
   "execution_count": 6,
   "metadata": {},
   "outputs": [],
   "source": [
    "### drop category that have less than 0.1% of the total row count\n",
    "df_project.drop(df_project[df_project['project_type_name_eng'] == 'Hire to design'].index, inplace=True)\n",
    "df_project.drop(df_project[df_project['project_type_name_eng'] == 'Hire to design and supervise'].index, inplace=True)\n",
    "df_project.drop(df_project[df_project['project_type_name_eng'] == 'Hire to supervise'].index, inplace=True)\n",
    "\n",
    "df_project.drop(df_project[df_project['purchase_method_group_name_eng'] == 'Bidding'].index, inplace=True)\n",
    "df_project.drop(df_project[df_project['purchase_method_group_name_eng'] == 'Agreed price'].index, inplace=True)\n",
    "df_project.drop(df_project[df_project['purchase_method_group_name_eng'] == 'E-market'].index, inplace=True)\n",
    "df_project.reset_index(drop=True,inplace = True)"
   ]
  },
  {
   "cell_type": "code",
   "execution_count": 7,
   "metadata": {},
   "outputs": [],
   "source": [
    "### delete columns that have too many unique categorical values\n",
    "detector_data = df_project.drop(columns=['province_eng','district_eng','announce_date_eng','transaction_date_eng','project_money_cleaned'])\n",
    "detector_data.drop(columns=['geom','project_id','price_build_cleaned','dept_name_eng','project_name','budget_year_cleaned'],inplace = True)"
   ]
  },
  {
   "cell_type": "code",
   "execution_count": 8,
   "metadata": {},
   "outputs": [
    {
     "data": {
      "text/plain": [
       "project_type_name_eng             object\n",
       "purchase_method_group_name_eng    object\n",
       "project_status_eng                object\n",
       "sum_price_agree_cleaned            int64\n",
       "dept_name_group                   object\n",
       "Topic_group                        int64\n",
       "dtype: object"
      ]
     },
     "execution_count": 8,
     "metadata": {},
     "output_type": "execute_result"
    }
   ],
   "source": [
    "detector_data.dtypes"
   ]
  },
  {
   "cell_type": "code",
   "execution_count": 9,
   "metadata": {},
   "outputs": [],
   "source": [
    "### standard scale numeric col\n",
    "### turn string col to onehot\n",
    "\n",
    "# Select numerical columns\n",
    "#numerical_cols = [cname for cname in df_project.columns if \n",
    "#                df_project[cname].dtype in ['int64', 'float64']]\n",
    "\n",
    "numerical_cols = ['sum_price_agree_cleaned']"
   ]
  },
  {
   "cell_type": "code",
   "execution_count": 10,
   "metadata": {},
   "outputs": [],
   "source": [
    "categorical_cols = [cname for cname in detector_data.columns if\n",
    "                    detector_data[cname].nunique() < 12 and \n",
    "                    detector_data[cname].dtype == \"object\"]\n",
    "categorical_cols.append('Topic_group')"
   ]
  },
  {
   "cell_type": "code",
   "execution_count": 11,
   "metadata": {},
   "outputs": [],
   "source": [
    "OH_encoder = OneHotEncoder(handle_unknown='ignore', sparse=False) #handle_unknown='ignore': if test has that new feature, ignore it\n",
    "OH_cols_train = pd.DataFrame(OH_encoder.fit_transform(detector_data[categorical_cols]))"
   ]
  },
  {
   "cell_type": "code",
   "execution_count": 12,
   "metadata": {},
   "outputs": [],
   "source": [
    "OH_cols_train.index = df_project.index"
   ]
  },
  {
   "cell_type": "code",
   "execution_count": 13,
   "metadata": {},
   "outputs": [],
   "source": [
    "OH_cols_train.columns = OH_encoder.get_feature_names()"
   ]
  },
  {
   "cell_type": "code",
   "execution_count": 14,
   "metadata": {},
   "outputs": [
    {
     "data": {
      "text/html": [
       "<div>\n",
       "<style scoped>\n",
       "    .dataframe tbody tr th:only-of-type {\n",
       "        vertical-align: middle;\n",
       "    }\n",
       "\n",
       "    .dataframe tbody tr th {\n",
       "        vertical-align: top;\n",
       "    }\n",
       "\n",
       "    .dataframe thead th {\n",
       "        text-align: right;\n",
       "    }\n",
       "</style>\n",
       "<table border=\"1\" class=\"dataframe\">\n",
       "  <thead>\n",
       "    <tr style=\"text-align: right;\">\n",
       "      <th></th>\n",
       "      <th>x0_Hire consultants</th>\n",
       "      <th>x0_Hire for construction</th>\n",
       "      <th>x0_Outsourcing / Contracting services</th>\n",
       "      <th>x0_buy</th>\n",
       "      <th>x0_rent</th>\n",
       "      <th>x1_E-bidding</th>\n",
       "      <th>x1_Hire consultants</th>\n",
       "      <th>x1_Price examination</th>\n",
       "      <th>x1_Special</th>\n",
       "      <th>x1_Special cases</th>\n",
       "      <th>...</th>\n",
       "      <th>x4_10</th>\n",
       "      <th>x4_11</th>\n",
       "      <th>x4_12</th>\n",
       "      <th>x4_13</th>\n",
       "      <th>x4_14</th>\n",
       "      <th>x4_15</th>\n",
       "      <th>x4_16</th>\n",
       "      <th>x4_17</th>\n",
       "      <th>x4_18</th>\n",
       "      <th>x4_19</th>\n",
       "    </tr>\n",
       "  </thead>\n",
       "  <tbody>\n",
       "    <tr>\n",
       "      <th>0</th>\n",
       "      <td>0.0</td>\n",
       "      <td>0.0</td>\n",
       "      <td>1.0</td>\n",
       "      <td>0.0</td>\n",
       "      <td>0.0</td>\n",
       "      <td>1.0</td>\n",
       "      <td>0.0</td>\n",
       "      <td>0.0</td>\n",
       "      <td>0.0</td>\n",
       "      <td>0.0</td>\n",
       "      <td>...</td>\n",
       "      <td>0.0</td>\n",
       "      <td>0.0</td>\n",
       "      <td>0.0</td>\n",
       "      <td>0.0</td>\n",
       "      <td>1.0</td>\n",
       "      <td>0.0</td>\n",
       "      <td>0.0</td>\n",
       "      <td>0.0</td>\n",
       "      <td>0.0</td>\n",
       "      <td>0.0</td>\n",
       "    </tr>\n",
       "    <tr>\n",
       "      <th>1</th>\n",
       "      <td>0.0</td>\n",
       "      <td>0.0</td>\n",
       "      <td>0.0</td>\n",
       "      <td>1.0</td>\n",
       "      <td>0.0</td>\n",
       "      <td>0.0</td>\n",
       "      <td>0.0</td>\n",
       "      <td>0.0</td>\n",
       "      <td>1.0</td>\n",
       "      <td>0.0</td>\n",
       "      <td>...</td>\n",
       "      <td>0.0</td>\n",
       "      <td>0.0</td>\n",
       "      <td>0.0</td>\n",
       "      <td>0.0</td>\n",
       "      <td>0.0</td>\n",
       "      <td>0.0</td>\n",
       "      <td>0.0</td>\n",
       "      <td>0.0</td>\n",
       "      <td>0.0</td>\n",
       "      <td>0.0</td>\n",
       "    </tr>\n",
       "    <tr>\n",
       "      <th>2</th>\n",
       "      <td>0.0</td>\n",
       "      <td>1.0</td>\n",
       "      <td>0.0</td>\n",
       "      <td>0.0</td>\n",
       "      <td>0.0</td>\n",
       "      <td>1.0</td>\n",
       "      <td>0.0</td>\n",
       "      <td>0.0</td>\n",
       "      <td>0.0</td>\n",
       "      <td>0.0</td>\n",
       "      <td>...</td>\n",
       "      <td>0.0</td>\n",
       "      <td>0.0</td>\n",
       "      <td>0.0</td>\n",
       "      <td>0.0</td>\n",
       "      <td>0.0</td>\n",
       "      <td>0.0</td>\n",
       "      <td>0.0</td>\n",
       "      <td>0.0</td>\n",
       "      <td>0.0</td>\n",
       "      <td>0.0</td>\n",
       "    </tr>\n",
       "    <tr>\n",
       "      <th>3</th>\n",
       "      <td>0.0</td>\n",
       "      <td>0.0</td>\n",
       "      <td>0.0</td>\n",
       "      <td>1.0</td>\n",
       "      <td>0.0</td>\n",
       "      <td>0.0</td>\n",
       "      <td>0.0</td>\n",
       "      <td>0.0</td>\n",
       "      <td>1.0</td>\n",
       "      <td>0.0</td>\n",
       "      <td>...</td>\n",
       "      <td>0.0</td>\n",
       "      <td>0.0</td>\n",
       "      <td>0.0</td>\n",
       "      <td>0.0</td>\n",
       "      <td>0.0</td>\n",
       "      <td>0.0</td>\n",
       "      <td>0.0</td>\n",
       "      <td>0.0</td>\n",
       "      <td>0.0</td>\n",
       "      <td>0.0</td>\n",
       "    </tr>\n",
       "    <tr>\n",
       "      <th>4</th>\n",
       "      <td>0.0</td>\n",
       "      <td>0.0</td>\n",
       "      <td>0.0</td>\n",
       "      <td>1.0</td>\n",
       "      <td>0.0</td>\n",
       "      <td>0.0</td>\n",
       "      <td>0.0</td>\n",
       "      <td>0.0</td>\n",
       "      <td>1.0</td>\n",
       "      <td>0.0</td>\n",
       "      <td>...</td>\n",
       "      <td>0.0</td>\n",
       "      <td>0.0</td>\n",
       "      <td>0.0</td>\n",
       "      <td>0.0</td>\n",
       "      <td>0.0</td>\n",
       "      <td>0.0</td>\n",
       "      <td>0.0</td>\n",
       "      <td>0.0</td>\n",
       "      <td>0.0</td>\n",
       "      <td>1.0</td>\n",
       "    </tr>\n",
       "    <tr>\n",
       "      <th>...</th>\n",
       "      <td>...</td>\n",
       "      <td>...</td>\n",
       "      <td>...</td>\n",
       "      <td>...</td>\n",
       "      <td>...</td>\n",
       "      <td>...</td>\n",
       "      <td>...</td>\n",
       "      <td>...</td>\n",
       "      <td>...</td>\n",
       "      <td>...</td>\n",
       "      <td>...</td>\n",
       "      <td>...</td>\n",
       "      <td>...</td>\n",
       "      <td>...</td>\n",
       "      <td>...</td>\n",
       "      <td>...</td>\n",
       "      <td>...</td>\n",
       "      <td>...</td>\n",
       "      <td>...</td>\n",
       "      <td>...</td>\n",
       "      <td>...</td>\n",
       "    </tr>\n",
       "    <tr>\n",
       "      <th>397339</th>\n",
       "      <td>0.0</td>\n",
       "      <td>1.0</td>\n",
       "      <td>0.0</td>\n",
       "      <td>0.0</td>\n",
       "      <td>0.0</td>\n",
       "      <td>1.0</td>\n",
       "      <td>0.0</td>\n",
       "      <td>0.0</td>\n",
       "      <td>0.0</td>\n",
       "      <td>0.0</td>\n",
       "      <td>...</td>\n",
       "      <td>0.0</td>\n",
       "      <td>0.0</td>\n",
       "      <td>0.0</td>\n",
       "      <td>0.0</td>\n",
       "      <td>0.0</td>\n",
       "      <td>0.0</td>\n",
       "      <td>0.0</td>\n",
       "      <td>0.0</td>\n",
       "      <td>0.0</td>\n",
       "      <td>0.0</td>\n",
       "    </tr>\n",
       "    <tr>\n",
       "      <th>397340</th>\n",
       "      <td>0.0</td>\n",
       "      <td>0.0</td>\n",
       "      <td>0.0</td>\n",
       "      <td>1.0</td>\n",
       "      <td>0.0</td>\n",
       "      <td>1.0</td>\n",
       "      <td>0.0</td>\n",
       "      <td>0.0</td>\n",
       "      <td>0.0</td>\n",
       "      <td>0.0</td>\n",
       "      <td>...</td>\n",
       "      <td>0.0</td>\n",
       "      <td>0.0</td>\n",
       "      <td>0.0</td>\n",
       "      <td>0.0</td>\n",
       "      <td>0.0</td>\n",
       "      <td>0.0</td>\n",
       "      <td>0.0</td>\n",
       "      <td>0.0</td>\n",
       "      <td>0.0</td>\n",
       "      <td>0.0</td>\n",
       "    </tr>\n",
       "    <tr>\n",
       "      <th>397341</th>\n",
       "      <td>0.0</td>\n",
       "      <td>1.0</td>\n",
       "      <td>0.0</td>\n",
       "      <td>0.0</td>\n",
       "      <td>0.0</td>\n",
       "      <td>1.0</td>\n",
       "      <td>0.0</td>\n",
       "      <td>0.0</td>\n",
       "      <td>0.0</td>\n",
       "      <td>0.0</td>\n",
       "      <td>...</td>\n",
       "      <td>0.0</td>\n",
       "      <td>0.0</td>\n",
       "      <td>0.0</td>\n",
       "      <td>0.0</td>\n",
       "      <td>0.0</td>\n",
       "      <td>0.0</td>\n",
       "      <td>0.0</td>\n",
       "      <td>0.0</td>\n",
       "      <td>0.0</td>\n",
       "      <td>0.0</td>\n",
       "    </tr>\n",
       "    <tr>\n",
       "      <th>397342</th>\n",
       "      <td>0.0</td>\n",
       "      <td>1.0</td>\n",
       "      <td>0.0</td>\n",
       "      <td>0.0</td>\n",
       "      <td>0.0</td>\n",
       "      <td>1.0</td>\n",
       "      <td>0.0</td>\n",
       "      <td>0.0</td>\n",
       "      <td>0.0</td>\n",
       "      <td>0.0</td>\n",
       "      <td>...</td>\n",
       "      <td>0.0</td>\n",
       "      <td>0.0</td>\n",
       "      <td>0.0</td>\n",
       "      <td>0.0</td>\n",
       "      <td>0.0</td>\n",
       "      <td>0.0</td>\n",
       "      <td>0.0</td>\n",
       "      <td>0.0</td>\n",
       "      <td>1.0</td>\n",
       "      <td>0.0</td>\n",
       "    </tr>\n",
       "    <tr>\n",
       "      <th>397343</th>\n",
       "      <td>0.0</td>\n",
       "      <td>1.0</td>\n",
       "      <td>0.0</td>\n",
       "      <td>0.0</td>\n",
       "      <td>0.0</td>\n",
       "      <td>1.0</td>\n",
       "      <td>0.0</td>\n",
       "      <td>0.0</td>\n",
       "      <td>0.0</td>\n",
       "      <td>0.0</td>\n",
       "      <td>...</td>\n",
       "      <td>0.0</td>\n",
       "      <td>0.0</td>\n",
       "      <td>1.0</td>\n",
       "      <td>0.0</td>\n",
       "      <td>0.0</td>\n",
       "      <td>0.0</td>\n",
       "      <td>0.0</td>\n",
       "      <td>0.0</td>\n",
       "      <td>0.0</td>\n",
       "      <td>0.0</td>\n",
       "    </tr>\n",
       "  </tbody>\n",
       "</table>\n",
       "<p>397344 rows × 41 columns</p>\n",
       "</div>"
      ],
      "text/plain": [
       "        x0_Hire consultants  x0_Hire for construction  \\\n",
       "0                       0.0                       0.0   \n",
       "1                       0.0                       0.0   \n",
       "2                       0.0                       1.0   \n",
       "3                       0.0                       0.0   \n",
       "4                       0.0                       0.0   \n",
       "...                     ...                       ...   \n",
       "397339                  0.0                       1.0   \n",
       "397340                  0.0                       0.0   \n",
       "397341                  0.0                       1.0   \n",
       "397342                  0.0                       1.0   \n",
       "397343                  0.0                       1.0   \n",
       "\n",
       "        x0_Outsourcing / Contracting services  x0_buy  x0_rent  x1_E-bidding  \\\n",
       "0                                         1.0     0.0      0.0           1.0   \n",
       "1                                         0.0     1.0      0.0           0.0   \n",
       "2                                         0.0     0.0      0.0           1.0   \n",
       "3                                         0.0     1.0      0.0           0.0   \n",
       "4                                         0.0     1.0      0.0           0.0   \n",
       "...                                       ...     ...      ...           ...   \n",
       "397339                                    0.0     0.0      0.0           1.0   \n",
       "397340                                    0.0     1.0      0.0           1.0   \n",
       "397341                                    0.0     0.0      0.0           1.0   \n",
       "397342                                    0.0     0.0      0.0           1.0   \n",
       "397343                                    0.0     0.0      0.0           1.0   \n",
       "\n",
       "        x1_Hire consultants  x1_Price examination  x1_Special  \\\n",
       "0                       0.0                   0.0         0.0   \n",
       "1                       0.0                   0.0         1.0   \n",
       "2                       0.0                   0.0         0.0   \n",
       "3                       0.0                   0.0         1.0   \n",
       "4                       0.0                   0.0         1.0   \n",
       "...                     ...                   ...         ...   \n",
       "397339                  0.0                   0.0         0.0   \n",
       "397340                  0.0                   0.0         0.0   \n",
       "397341                  0.0                   0.0         0.0   \n",
       "397342                  0.0                   0.0         0.0   \n",
       "397343                  0.0                   0.0         0.0   \n",
       "\n",
       "        x1_Special cases  ...  x4_10  x4_11  x4_12  x4_13  x4_14  x4_15  \\\n",
       "0                    0.0  ...    0.0    0.0    0.0    0.0    1.0    0.0   \n",
       "1                    0.0  ...    0.0    0.0    0.0    0.0    0.0    0.0   \n",
       "2                    0.0  ...    0.0    0.0    0.0    0.0    0.0    0.0   \n",
       "3                    0.0  ...    0.0    0.0    0.0    0.0    0.0    0.0   \n",
       "4                    0.0  ...    0.0    0.0    0.0    0.0    0.0    0.0   \n",
       "...                  ...  ...    ...    ...    ...    ...    ...    ...   \n",
       "397339               0.0  ...    0.0    0.0    0.0    0.0    0.0    0.0   \n",
       "397340               0.0  ...    0.0    0.0    0.0    0.0    0.0    0.0   \n",
       "397341               0.0  ...    0.0    0.0    0.0    0.0    0.0    0.0   \n",
       "397342               0.0  ...    0.0    0.0    0.0    0.0    0.0    0.0   \n",
       "397343               0.0  ...    0.0    0.0    1.0    0.0    0.0    0.0   \n",
       "\n",
       "        x4_16  x4_17  x4_18  x4_19  \n",
       "0         0.0    0.0    0.0    0.0  \n",
       "1         0.0    0.0    0.0    0.0  \n",
       "2         0.0    0.0    0.0    0.0  \n",
       "3         0.0    0.0    0.0    0.0  \n",
       "4         0.0    0.0    0.0    1.0  \n",
       "...       ...    ...    ...    ...  \n",
       "397339    0.0    0.0    0.0    0.0  \n",
       "397340    0.0    0.0    0.0    0.0  \n",
       "397341    0.0    0.0    0.0    0.0  \n",
       "397342    0.0    0.0    1.0    0.0  \n",
       "397343    0.0    0.0    0.0    0.0  \n",
       "\n",
       "[397344 rows x 41 columns]"
      ]
     },
     "execution_count": 14,
     "metadata": {},
     "output_type": "execute_result"
    }
   ],
   "source": [
    "OH_cols_train"
   ]
  },
  {
   "cell_type": "code",
   "execution_count": 15,
   "metadata": {},
   "outputs": [],
   "source": [
    "X = pd.concat([detector_data[numerical_cols], OH_cols_train.reset_index(drop=True)], axis=1)"
   ]
  },
  {
   "cell_type": "code",
   "execution_count": 102,
   "metadata": {},
   "outputs": [
    {
     "name": "stdout",
     "output_type": "stream",
     "text": [
      "96.80292916297913 seconds\n"
     ]
    }
   ],
   "source": [
    "current = time.time()\n",
    "\n",
    "\n",
    "outlier_detect = IsolationForest(n_estimators=100, max_samples=0.8, contamination=.001,max_features = 0.8, random_state = 4) \n",
    "# might need to change max features\n",
    "\n",
    "outliers_predicted = outlier_detect.fit_predict(X)\n",
    "now = time.time()\n",
    "print(now- current, 'seconds')\n"
   ]
  },
  {
   "cell_type": "code",
   "execution_count": 103,
   "metadata": {},
   "outputs": [
    {
     "data": {
      "text/plain": [
       "(398,)"
      ]
     },
     "execution_count": 103,
     "metadata": {},
     "output_type": "execute_result"
    }
   ],
   "source": [
    "outliers_predicted[outliers_predicted==-1].shape"
   ]
  },
  {
   "cell_type": "code",
   "execution_count": 18,
   "metadata": {},
   "outputs": [],
   "source": [
    "df_project['iForest_outlier'] = outliers_predicted"
   ]
  },
  {
   "cell_type": "code",
   "execution_count": 310,
   "metadata": {},
   "outputs": [],
   "source": [
    "df_project.to_csv('anomaly_model_v4.csv',index=False)"
   ]
  },
  {
   "cell_type": "code",
   "execution_count": 318,
   "metadata": {},
   "outputs": [],
   "source": [
    "temp = outlier_detect.decision_function(X)"
   ]
  },
  {
   "cell_type": "code",
   "execution_count": 313,
   "metadata": {},
   "outputs": [
    {
     "data": {
      "text/plain": [
       "array([-1,  1])"
      ]
     },
     "execution_count": 313,
     "metadata": {},
     "output_type": "execute_result"
    }
   ],
   "source": [
    "outliers_predicted[1:3]"
   ]
  },
  {
   "cell_type": "code",
   "execution_count": 169,
   "metadata": {},
   "outputs": [
    {
     "name": "stdout",
     "output_type": "stream",
     "text": [
      "41.6827597618103 seconds\n"
     ]
    }
   ],
   "source": [
    "'''\n",
    "In practice,taking n_neighbors=20 appears to work well in general. When the proportion of outliers is high \n",
    "(i.e. greater than 10 %, as in the example below), n_neighbors should be greater (n_neighbors=35 in the example below). \n",
    "how isolated it is with respect to the surrounding neighborhood.\n",
    "'''\n",
    "\n",
    "#current = time.time()\n",
    "#LOF = LocalOutlierFactor(n_neighbors=20,contamination = 0.001)\n",
    "#y_pred = LOF.fit_predict(X)\n",
    "#now = time.time()\n",
    "#print(now- current, 'seconds')"
   ]
  },
  {
   "cell_type": "code",
   "execution_count": 170,
   "metadata": {},
   "outputs": [],
   "source": [
    "#df_project['LOF_outlier'] = y_pred"
   ]
  },
  {
   "cell_type": "code",
   "execution_count": 82,
   "metadata": {},
   "outputs": [
    {
     "data": {
      "text/html": [
       "<div>\n",
       "<style scoped>\n",
       "    .dataframe tbody tr th:only-of-type {\n",
       "        vertical-align: middle;\n",
       "    }\n",
       "\n",
       "    .dataframe tbody tr th {\n",
       "        vertical-align: top;\n",
       "    }\n",
       "\n",
       "    .dataframe thead th {\n",
       "        text-align: right;\n",
       "    }\n",
       "</style>\n",
       "<table border=\"1\" class=\"dataframe\">\n",
       "  <thead>\n",
       "    <tr style=\"text-align: right;\">\n",
       "      <th></th>\n",
       "      <th>project_type_name_eng</th>\n",
       "      <th>purchase_method_group_name_eng</th>\n",
       "      <th>province_eng</th>\n",
       "      <th>project_status_eng</th>\n",
       "      <th>district_eng</th>\n",
       "      <th>announce_date_eng</th>\n",
       "      <th>transaction_date_eng</th>\n",
       "      <th>project_money_cleaned</th>\n",
       "      <th>price_build_cleaned</th>\n",
       "      <th>sum_price_agree_cleaned</th>\n",
       "      <th>dept_name_eng</th>\n",
       "      <th>budget_year_cleaned</th>\n",
       "      <th>project_id</th>\n",
       "      <th>project_name</th>\n",
       "      <th>geom</th>\n",
       "      <th>dept_name_group</th>\n",
       "      <th>Topic_group</th>\n",
       "      <th>Iso_Forest_outlier</th>\n",
       "      <th>LOF_outlier</th>\n",
       "    </tr>\n",
       "  </thead>\n",
       "  <tbody>\n",
       "    <tr>\n",
       "      <th>0</th>\n",
       "      <td>Hire for construction</td>\n",
       "      <td>Bidding</td>\n",
       "      <td>Nonthaburi</td>\n",
       "      <td>In progress</td>\n",
       "      <td>Bang Kruai</td>\n",
       "      <td>2 Apr 2013</td>\n",
       "      <td>9 March 2015</td>\n",
       "      <td>0</td>\n",
       "      <td>0</td>\n",
       "      <td>70624000000</td>\n",
       "      <td>Electricity Generating Authority of Thailand</td>\n",
       "      <td>2015</td>\n",
       "      <td>56045006726</td>\n",
       "      <td>ประกวดราคาจ้างซื้อและจ้างก่อสร้างโรงไฟฟ้าเพื่อ...</td>\n",
       "      <td>POINT(100.498178770987 13.8068549692447)</td>\n",
       "      <td>Other</td>\n",
       "      <td>4</td>\n",
       "      <td>-1</td>\n",
       "      <td>1</td>\n",
       "    </tr>\n",
       "    <tr>\n",
       "      <th>1</th>\n",
       "      <td>Outsourcing / Contracting services</td>\n",
       "      <td>Bidding</td>\n",
       "      <td>Nonthaburi</td>\n",
       "      <td>In progress</td>\n",
       "      <td>Bang Kruai</td>\n",
       "      <td>21 Nov 2014</td>\n",
       "      <td>26 Aug 2015</td>\n",
       "      <td>30000000000</td>\n",
       "      <td>26910000000</td>\n",
       "      <td>22871000000</td>\n",
       "      <td>Electricity Generating Authority of Thailand</td>\n",
       "      <td>2015</td>\n",
       "      <td>57115200071</td>\n",
       "      <td>ประกวดราคาจ้างเหมาขุด-ขนดินและถ่าน ที่เหมืองแม...</td>\n",
       "      <td>POINT(100.498178770987 13.8068549692447)</td>\n",
       "      <td>Other</td>\n",
       "      <td>14</td>\n",
       "      <td>-1</td>\n",
       "      <td>1</td>\n",
       "    </tr>\n",
       "    <tr>\n",
       "      <th>2</th>\n",
       "      <td>Outsourcing / Contracting services</td>\n",
       "      <td>E-bidding</td>\n",
       "      <td>Bangkok</td>\n",
       "      <td>In progress</td>\n",
       "      <td>Din</td>\n",
       "      <td>27 Aug 2014</td>\n",
       "      <td>13 Oct 2014</td>\n",
       "      <td>4455190000</td>\n",
       "      <td>4480010000</td>\n",
       "      <td>4436575000</td>\n",
       "      <td>Bangkok</td>\n",
       "      <td>2015</td>\n",
       "      <td>57085094977</td>\n",
       "      <td>ประกวดราคาจ้างเหมาเอกชนขนมูลฝอยจากศูนย์กำจัดมู...</td>\n",
       "      <td>POINT(100.565063509801 13.7780980259196)</td>\n",
       "      <td>Other</td>\n",
       "      <td>14</td>\n",
       "      <td>1</td>\n",
       "      <td>1</td>\n",
       "    </tr>\n",
       "    <tr>\n",
       "      <th>3</th>\n",
       "      <td>buy</td>\n",
       "      <td>Special</td>\n",
       "      <td>Bangkok</td>\n",
       "      <td>In progress</td>\n",
       "      <td>Dusit</td>\n",
       "      <td>NaN</td>\n",
       "      <td>28 Jan 2015</td>\n",
       "      <td>2800000000</td>\n",
       "      <td>2799999972</td>\n",
       "      <td>2725935375</td>\n",
       "      <td>Army</td>\n",
       "      <td>2015</td>\n",
       "      <td>57085194402</td>\n",
       "      <td>ซื้อฮ.ท.ขนาดเบา แบบที่ 2 จำนวน 6 เครื่อง โดยวิ...</td>\n",
       "      <td>POINT(100.519873059321 13.7873113160748)</td>\n",
       "      <td>Other</td>\n",
       "      <td>6</td>\n",
       "      <td>1</td>\n",
       "      <td>1</td>\n",
       "    </tr>\n",
       "    <tr>\n",
       "      <th>4</th>\n",
       "      <td>Hire for construction</td>\n",
       "      <td>E-bidding</td>\n",
       "      <td>Bangkok</td>\n",
       "      <td>In progress</td>\n",
       "      <td>Chatuchak</td>\n",
       "      <td>25 Mar 2014</td>\n",
       "      <td>9 Oct 2014</td>\n",
       "      <td>2599999769</td>\n",
       "      <td>2599999769</td>\n",
       "      <td>2588950000</td>\n",
       "      <td>Army</td>\n",
       "      <td>2015</td>\n",
       "      <td>57035180671</td>\n",
       "      <td>ประกวดราคาจ้างก่อสร้างอาคารเฉลิมพระเกียรติ สมเ...</td>\n",
       "      <td>POINT(100.584152190858 13.8453156541146)</td>\n",
       "      <td>Other</td>\n",
       "      <td>3</td>\n",
       "      <td>1</td>\n",
       "      <td>1</td>\n",
       "    </tr>\n",
       "  </tbody>\n",
       "</table>\n",
       "</div>"
      ],
      "text/plain": [
       "                project_type_name_eng purchase_method_group_name_eng  \\\n",
       "0               Hire for construction                        Bidding   \n",
       "1  Outsourcing / Contracting services                        Bidding   \n",
       "2  Outsourcing / Contracting services                      E-bidding   \n",
       "3                                 buy                        Special   \n",
       "4               Hire for construction                      E-bidding   \n",
       "\n",
       "  province_eng project_status_eng district_eng announce_date_eng  \\\n",
       "0   Nonthaburi        In progress   Bang Kruai        2 Apr 2013   \n",
       "1   Nonthaburi        In progress   Bang Kruai       21 Nov 2014   \n",
       "2      Bangkok        In progress          Din       27 Aug 2014   \n",
       "3      Bangkok        In progress        Dusit               NaN   \n",
       "4      Bangkok        In progress    Chatuchak       25 Mar 2014   \n",
       "\n",
       "  transaction_date_eng  project_money_cleaned price_build_cleaned  \\\n",
       "0         9 March 2015                      0                   0   \n",
       "1          26 Aug 2015            30000000000         26910000000   \n",
       "2          13 Oct 2014             4455190000          4480010000   \n",
       "3          28 Jan 2015             2800000000          2799999972   \n",
       "4           9 Oct 2014             2599999769          2599999769   \n",
       "\n",
       "   sum_price_agree_cleaned                                 dept_name_eng  \\\n",
       "0              70624000000  Electricity Generating Authority of Thailand   \n",
       "1              22871000000  Electricity Generating Authority of Thailand   \n",
       "2               4436575000                                       Bangkok   \n",
       "3               2725935375                                          Army   \n",
       "4               2588950000                                          Army   \n",
       "\n",
       "   budget_year_cleaned   project_id  \\\n",
       "0                 2015  56045006726   \n",
       "1                 2015  57115200071   \n",
       "2                 2015  57085094977   \n",
       "3                 2015  57085194402   \n",
       "4                 2015  57035180671   \n",
       "\n",
       "                                        project_name  \\\n",
       "0  ประกวดราคาจ้างซื้อและจ้างก่อสร้างโรงไฟฟ้าเพื่อ...   \n",
       "1  ประกวดราคาจ้างเหมาขุด-ขนดินและถ่าน ที่เหมืองแม...   \n",
       "2  ประกวดราคาจ้างเหมาเอกชนขนมูลฝอยจากศูนย์กำจัดมู...   \n",
       "3  ซื้อฮ.ท.ขนาดเบา แบบที่ 2 จำนวน 6 เครื่อง โดยวิ...   \n",
       "4  ประกวดราคาจ้างก่อสร้างอาคารเฉลิมพระเกียรติ สมเ...   \n",
       "\n",
       "                                       geom dept_name_group  Topic_group  \\\n",
       "0  POINT(100.498178770987 13.8068549692447)           Other            4   \n",
       "1  POINT(100.498178770987 13.8068549692447)           Other           14   \n",
       "2  POINT(100.565063509801 13.7780980259196)           Other           14   \n",
       "3  POINT(100.519873059321 13.7873113160748)           Other            6   \n",
       "4  POINT(100.584152190858 13.8453156541146)           Other            3   \n",
       "\n",
       "   Iso_Forest_outlier  LOF_outlier  \n",
       "0                  -1            1  \n",
       "1                  -1            1  \n",
       "2                   1            1  \n",
       "3                   1            1  \n",
       "4                   1            1  "
      ]
     },
     "execution_count": 82,
     "metadata": {},
     "output_type": "execute_result"
    }
   ],
   "source": [
    "#df_project.head()"
   ]
  },
  {
   "cell_type": "code",
   "execution_count": 171,
   "metadata": {},
   "outputs": [],
   "source": [
    "#df_project.to_csv('test_LOF.csv',index=False)"
   ]
  },
  {
   "cell_type": "markdown",
   "metadata": {},
   "source": [
    "Decided to move forward only with iForest. LOF are not included in the final analysis"
   ]
  },
  {
   "cell_type": "code",
   "execution_count": 20,
   "metadata": {},
   "outputs": [
    {
     "data": {
      "text/plain": [
       "(397344, 18)"
      ]
     },
     "execution_count": 20,
     "metadata": {},
     "output_type": "execute_result"
    }
   ],
   "source": [
    "df_project.shape"
   ]
  },
  {
   "cell_type": "code",
   "execution_count": 23,
   "metadata": {},
   "outputs": [
    {
     "data": {
      "text/plain": [
       "(398, 18)"
      ]
     },
     "execution_count": 23,
     "metadata": {},
     "output_type": "execute_result"
    }
   ],
   "source": [
    "df_project[df_project['iForest_outlier']==-1].shape"
   ]
  },
  {
   "cell_type": "code",
   "execution_count": 137,
   "metadata": {},
   "outputs": [],
   "source": [
    "iForest_outlier = df_project[df_project['iForest_outlier']==-1]"
   ]
  },
  {
   "cell_type": "code",
   "execution_count": 138,
   "metadata": {},
   "outputs": [
    {
     "data": {
      "image/png": "[encoded data removed]",
      "text/plain": [
       "<Figure size 432x288 with 1 Axes>"
      ]
     },
     "metadata": {
      "needs_background": "light"
     },
     "output_type": "display_data"
    }
   ],
   "source": [
    "iForest_outlier['dept_name_group'].value_counts().plot(kind='bar');"
   ]
  },
  {
   "cell_type": "code",
   "execution_count": 284,
   "metadata": {},
   "outputs": [
    {
     "data": {
      "image/png": "[encoded data removed]",
      "text/plain": [
       "<Figure size 432x288 with 1 Axes>"
      ]
     },
     "metadata": {
      "needs_background": "light"
     },
     "output_type": "display_data"
    }
   ],
   "source": [
    "iForest_outlier['purchase_method_group_name_eng'].value_counts().plot(kind='bar');"
   ]
  },
  {
   "cell_type": "code",
   "execution_count": 140,
   "metadata": {},
   "outputs": [
    {
     "name": "stderr",
     "output_type": "stream",
     "text": [
      "C:\\Users\\v-krvibh\\anaconda3\\lib\\site-packages\\ipykernel_launcher.py:20: SettingWithCopyWarning: \n",
      "A value is trying to be set on a copy of a slice from a DataFrame.\n",
      "Try using .loc[row_indexer,col_indexer] = value instead\n",
      "\n",
      "See the caveats in the documentation: https://pandas.pydata.org/pandas-docs/stable/user_guide/indexing.html#returning-a-view-versus-a-copy\n"
     ]
    }
   ],
   "source": [
    "#create spending tranche grouping\n",
    "def spending_tranche(x):\n",
    "    if x < 2000000: # < 2m\n",
    "        return \"0-2m\"\n",
    "    elif x < 5000000: # < 5m\n",
    "        return \"2m-5m\"\n",
    "    elif x < 10000000: # < 10m\n",
    "        return \"5m-10m\"\n",
    "    elif x < 50000000: # < 50m\n",
    "        return \"10m-50m\"\n",
    "    elif x < 100000000: # < 100m\n",
    "        return \"50m-100m\"\n",
    "    elif x < 500000000: # < 500m\n",
    "        return \"100m-500m\"\n",
    "    elif x < 1000000000: # < 1b\n",
    "        return \"500m-1b\"    \n",
    "    else:     \n",
    "        return '1b+'\n",
    "    \n",
    "iForest_outlier['Spending_tranche'] = iForest_outlier['sum_price_agree_cleaned'].apply(spending_tranche)\n",
    "df_project['Spending_tranche'] = df_project['sum_price_agree_cleaned'].apply(spending_tranche)"
   ]
  },
  {
   "cell_type": "code",
   "execution_count": 146,
   "metadata": {},
   "outputs": [
    {
     "name": "stdout",
     "output_type": "stream",
     "text": [
      "-1 = outliers\n",
      " 1 = inliers\n"
     ]
    },
    {
     "data": {
      "image/png": "[encoded data removed]",
      "text/plain": [
       "<Figure size 576x576 with 1 Axes>"
      ]
     },
     "metadata": {
      "needs_background": "light"
     },
     "output_type": "display_data"
    }
   ],
   "source": [
    "import seaborn as sns\n",
    "from matplotlib.pyplot import figure\n",
    "\n",
    "figure( figsize=(8,8))\n",
    "x, y, hue = \"Spending_tranche\", \"proportion\", \"iForest_outlier\"\n",
    "hue_order = [\"Male\", \"Female\"]\n",
    "\n",
    "(df_project[x]\n",
    " .groupby(df_project[hue])\n",
    " .value_counts(normalize=True)\n",
    " .rename(y)\n",
    " .reset_index()\n",
    " .pipe((sns.barplot, \"data\"), x=x, y=y, hue=hue))\n",
    "\n",
    "print('-1 = outliers')\n",
    "print(' 1 = inliers')"
   ]
  },
  {
   "cell_type": "markdown",
   "metadata": {},
   "source": [
    "Recall that Iforest looks for \"few and different\" data points. This would mean that data points with very high and very low spending are more likely to be outliers, which makes senses. However, they are also less interesting because we can usually spot those points manually. So, I will only be looking at the outlier with spending between 5m to 1b"
   ]
  },
  {
   "cell_type": "code",
   "execution_count": 147,
   "metadata": {},
   "outputs": [],
   "source": [
    "iForest_outlier_mid = iForest_outlier[iForest_outlier['sum_price_agree_cleaned'] < 1000000000]\n",
    "iForest_outlier_mid = iForest_outlier_mid[iForest_outlier_mid['sum_price_agree_cleaned'] > 5000000]"
   ]
  },
  {
   "cell_type": "markdown",
   "metadata": {},
   "source": [
    "Picking interesting outliers"
   ]
  },
  {
   "cell_type": "code",
   "execution_count": 159,
   "metadata": {},
   "outputs": [
    {
     "data": {
      "text/plain": [
       "(147, 19)"
      ]
     },
     "execution_count": 159,
     "metadata": {},
     "output_type": "execute_result"
    }
   ],
   "source": [
    "iForest_outlier_mid.shape"
   ]
  },
  {
   "cell_type": "markdown",
   "metadata": {},
   "source": [
    "now we are able to narrow down the outliers to just a handful projects.\n",
    "Then we would want to look on which category do the outliers most likely to fall into"
   ]
  },
  {
   "cell_type": "code",
   "execution_count": 254,
   "metadata": {},
   "outputs": [
    {
     "name": "stderr",
     "output_type": "stream",
     "text": [
      "C:\\Users\\v-krvibh\\anaconda3\\lib\\site-packages\\ipykernel_launcher.py:3: UserWarning: Boolean Series key will be reindexed to match DataFrame index.\n",
      "  This is separate from the ipykernel package so we can avoid doing imports until\n"
     ]
    }
   ],
   "source": [
    "iForest_outlier_example = iForest_outlier_mid\n",
    "for i in ['dept_name_group','purchase_method_group_name_eng','project_status_eng','Topic_group']:\n",
    "    iForest_outlier_example = iForest_outlier_example[iForest_outlier_mid[i] == iForest_outlier_example[i].value_counts().idxmax()]"
   ]
  },
  {
   "cell_type": "code",
   "execution_count": 251,
   "metadata": {},
   "outputs": [
    {
     "data": {
      "text/plain": [
       "(2, 19)"
      ]
     },
     "execution_count": 251,
     "metadata": {},
     "output_type": "execute_result"
    }
   ],
   "source": [
    "iForest_outlier_example.shape"
   ]
  },
  {
   "cell_type": "code",
   "execution_count": 257,
   "metadata": {},
   "outputs": [
    {
     "data": {
      "text/html": [
       "<div>\n",
       "<style scoped>\n",
       "    .dataframe tbody tr th:only-of-type {\n",
       "        vertical-align: middle;\n",
       "    }\n",
       "\n",
       "    .dataframe tbody tr th {\n",
       "        vertical-align: top;\n",
       "    }\n",
       "\n",
       "    .dataframe thead th {\n",
       "        text-align: right;\n",
       "    }\n",
       "</style>\n",
       "<table border=\"1\" class=\"dataframe\">\n",
       "  <thead>\n",
       "    <tr style=\"text-align: right;\">\n",
       "      <th></th>\n",
       "      <th>project_type_name_eng</th>\n",
       "      <th>purchase_method_group_name_eng</th>\n",
       "      <th>province_eng</th>\n",
       "      <th>project_status_eng</th>\n",
       "      <th>district_eng</th>\n",
       "      <th>announce_date_eng</th>\n",
       "      <th>transaction_date_eng</th>\n",
       "      <th>project_money_cleaned</th>\n",
       "      <th>price_build_cleaned</th>\n",
       "      <th>sum_price_agree_cleaned</th>\n",
       "      <th>dept_name_eng</th>\n",
       "      <th>budget_year_cleaned</th>\n",
       "      <th>project_id</th>\n",
       "      <th>project_name</th>\n",
       "      <th>geom</th>\n",
       "      <th>dept_name_group</th>\n",
       "      <th>Topic_group</th>\n",
       "      <th>iForest_outlier</th>\n",
       "      <th>Spending_tranche</th>\n",
       "    </tr>\n",
       "  </thead>\n",
       "  <tbody>\n",
       "    <tr>\n",
       "      <th>78381</th>\n",
       "      <td>buy</td>\n",
       "      <td>Special cases</td>\n",
       "      <td>Bangkok</td>\n",
       "      <td>End of contract</td>\n",
       "      <td>Dusit</td>\n",
       "      <td>NaN</td>\n",
       "      <td>7 Jun 2016</td>\n",
       "      <td>53415000</td>\n",
       "      <td>53415000</td>\n",
       "      <td>53388000</td>\n",
       "      <td>National Police Agency</td>\n",
       "      <td>2016</td>\n",
       "      <td>59056160888</td>\n",
       "      <td>ซื้อเกราะลำตัว (46.15.15.04 ) โดยวิธีกรณีพิเศษ</td>\n",
       "      <td>NaN</td>\n",
       "      <td>police</td>\n",
       "      <td>16</td>\n",
       "      <td>-1</td>\n",
       "      <td>50m-100m</td>\n",
       "    </tr>\n",
       "    <tr>\n",
       "      <th>78965</th>\n",
       "      <td>buy</td>\n",
       "      <td>Special cases</td>\n",
       "      <td>Bangkok</td>\n",
       "      <td>End of contract</td>\n",
       "      <td>Dusit</td>\n",
       "      <td>NaN</td>\n",
       "      <td>16 Sep 2016</td>\n",
       "      <td>35311900</td>\n",
       "      <td>35241040</td>\n",
       "      <td>35264660</td>\n",
       "      <td>National Police Agency</td>\n",
       "      <td>2016</td>\n",
       "      <td>59096184193</td>\n",
       "      <td>ซื้อสนับศอก (46.15.15.04 ) โดยวิธีกรณีพิเศษ</td>\n",
       "      <td>NaN</td>\n",
       "      <td>police</td>\n",
       "      <td>16</td>\n",
       "      <td>-1</td>\n",
       "      <td>10m-50m</td>\n",
       "    </tr>\n",
       "  </tbody>\n",
       "</table>\n",
       "</div>"
      ],
      "text/plain": [
       "      project_type_name_eng purchase_method_group_name_eng province_eng  \\\n",
       "78381                   buy                  Special cases      Bangkok   \n",
       "78965                   buy                  Special cases      Bangkok   \n",
       "\n",
       "      project_status_eng district_eng announce_date_eng transaction_date_eng  \\\n",
       "78381    End of contract        Dusit               NaN           7 Jun 2016   \n",
       "78965    End of contract        Dusit               NaN          16 Sep 2016   \n",
       "\n",
       "       project_money_cleaned price_build_cleaned  sum_price_agree_cleaned  \\\n",
       "78381               53415000            53415000                 53388000   \n",
       "78965               35311900            35241040                 35264660   \n",
       "\n",
       "                dept_name_eng  budget_year_cleaned   project_id  \\\n",
       "78381  National Police Agency                 2016  59056160888   \n",
       "78965  National Police Agency                 2016  59096184193   \n",
       "\n",
       "                                         project_name geom dept_name_group  \\\n",
       "78381  ซื้อเกราะลำตัว (46.15.15.04 ) โดยวิธีกรณีพิเศษ  NaN          police   \n",
       "78965     ซื้อสนับศอก (46.15.15.04 ) โดยวิธีกรณีพิเศษ  NaN          police   \n",
       "\n",
       "       Topic_group  iForest_outlier Spending_tranche  \n",
       "78381           16               -1         50m-100m  \n",
       "78965           16               -1          10m-50m  "
      ]
     },
     "execution_count": 257,
     "metadata": {},
     "output_type": "execute_result"
    }
   ],
   "source": [
    "iForest_outlier_example"
   ]
  },
  {
   "cell_type": "code",
   "execution_count": 280,
   "metadata": {},
   "outputs": [
    {
     "name": "stdout",
     "output_type": "stream",
     "text": [
      "Category name:  project_type_name_eng , category value  ['buy']\n",
      "Category name:  purchase_method_group_name_eng , category value  ['Special cases']\n",
      "Category name:  project_status_eng , category value  ['End of contract']\n",
      "Category name:  dept_name_group , category value  ['police']\n",
      "Category name:  Topic_group , category value  [16]\n"
     ]
    }
   ],
   "source": [
    "for i in categorical_cols:\n",
    "    print('Category name: ',i, ', category value ' ,iForest_outlier_example[i].unique())"
   ]
  },
  {
   "cell_type": "code",
   "execution_count": 261,
   "metadata": {},
   "outputs": [
    {
     "data": {
      "text/plain": [
       "['project_type_name_eng',\n",
       " 'purchase_method_group_name_eng',\n",
       " 'project_status_eng',\n",
       " 'dept_name_group',\n",
       " 'Topic_group']"
      ]
     },
     "execution_count": 261,
     "metadata": {},
     "output_type": "execute_result"
    }
   ],
   "source": [
    "categorical_cols"
   ]
  },
  {
   "cell_type": "code",
   "execution_count": 281,
   "metadata": {},
   "outputs": [
    {
     "data": {
      "text/html": [
       "<div>\n",
       "<style scoped>\n",
       "    .dataframe tbody tr th:only-of-type {\n",
       "        vertical-align: middle;\n",
       "    }\n",
       "\n",
       "    .dataframe tbody tr th {\n",
       "        vertical-align: top;\n",
       "    }\n",
       "\n",
       "    .dataframe thead th {\n",
       "        text-align: right;\n",
       "    }\n",
       "</style>\n",
       "<table border=\"1\" class=\"dataframe\">\n",
       "  <thead>\n",
       "    <tr style=\"text-align: right;\">\n",
       "      <th></th>\n",
       "      <th>project_type_name_eng</th>\n",
       "      <th>purchase_method_group_name_eng</th>\n",
       "      <th>province_eng</th>\n",
       "      <th>project_status_eng</th>\n",
       "      <th>district_eng</th>\n",
       "      <th>announce_date_eng</th>\n",
       "      <th>transaction_date_eng</th>\n",
       "      <th>project_money_cleaned</th>\n",
       "      <th>price_build_cleaned</th>\n",
       "      <th>sum_price_agree_cleaned</th>\n",
       "      <th>dept_name_eng</th>\n",
       "      <th>budget_year_cleaned</th>\n",
       "      <th>project_id</th>\n",
       "      <th>project_name</th>\n",
       "      <th>geom</th>\n",
       "      <th>dept_name_group</th>\n",
       "      <th>Topic_group</th>\n",
       "      <th>iForest_outlier</th>\n",
       "      <th>Spending_tranche</th>\n",
       "    </tr>\n",
       "  </thead>\n",
       "  <tbody>\n",
       "    <tr>\n",
       "      <th>21523</th>\n",
       "      <td>buy</td>\n",
       "      <td>Special cases</td>\n",
       "      <td>Bangkok</td>\n",
       "      <td>End of contract</td>\n",
       "      <td>Dusit</td>\n",
       "      <td>NaN</td>\n",
       "      <td>14 Sep 2015</td>\n",
       "      <td>6300000</td>\n",
       "      <td>6300000</td>\n",
       "      <td>6259200</td>\n",
       "      <td>National Police Agency</td>\n",
       "      <td>2015</td>\n",
       "      <td>58056010347</td>\n",
       "      <td>ซื้อเกราะลำตัว (46.15.15.04 ) โดยวิธีกรณีพิเศษ</td>\n",
       "      <td>POINT(100.519873059321 13.7873113160748)</td>\n",
       "      <td>police</td>\n",
       "      <td>16</td>\n",
       "      <td>1</td>\n",
       "      <td>5m-10m</td>\n",
       "    </tr>\n",
       "    <tr>\n",
       "      <th>78381</th>\n",
       "      <td>buy</td>\n",
       "      <td>Special cases</td>\n",
       "      <td>Bangkok</td>\n",
       "      <td>End of contract</td>\n",
       "      <td>Dusit</td>\n",
       "      <td>NaN</td>\n",
       "      <td>7 Jun 2016</td>\n",
       "      <td>53415000</td>\n",
       "      <td>53415000</td>\n",
       "      <td>53388000</td>\n",
       "      <td>National Police Agency</td>\n",
       "      <td>2016</td>\n",
       "      <td>59056160888</td>\n",
       "      <td>ซื้อเกราะลำตัว (46.15.15.04 ) โดยวิธีกรณีพิเศษ</td>\n",
       "      <td>NaN</td>\n",
       "      <td>police</td>\n",
       "      <td>16</td>\n",
       "      <td>-1</td>\n",
       "      <td>50m-100m</td>\n",
       "    </tr>\n",
       "    <tr>\n",
       "      <th>78965</th>\n",
       "      <td>buy</td>\n",
       "      <td>Special cases</td>\n",
       "      <td>Bangkok</td>\n",
       "      <td>End of contract</td>\n",
       "      <td>Dusit</td>\n",
       "      <td>NaN</td>\n",
       "      <td>16 Sep 2016</td>\n",
       "      <td>35311900</td>\n",
       "      <td>35241040</td>\n",
       "      <td>35264660</td>\n",
       "      <td>National Police Agency</td>\n",
       "      <td>2016</td>\n",
       "      <td>59096184193</td>\n",
       "      <td>ซื้อสนับศอก (46.15.15.04 ) โดยวิธีกรณีพิเศษ</td>\n",
       "      <td>NaN</td>\n",
       "      <td>police</td>\n",
       "      <td>16</td>\n",
       "      <td>-1</td>\n",
       "      <td>10m-50m</td>\n",
       "    </tr>\n",
       "    <tr>\n",
       "      <th>89911</th>\n",
       "      <td>buy</td>\n",
       "      <td>Special cases</td>\n",
       "      <td>Bangkok</td>\n",
       "      <td>End of contract</td>\n",
       "      <td>Dusit</td>\n",
       "      <td>NaN</td>\n",
       "      <td>22 Dec 2015</td>\n",
       "      <td>6715000</td>\n",
       "      <td>6715000</td>\n",
       "      <td>6674000</td>\n",
       "      <td>National Police Agency</td>\n",
       "      <td>2016</td>\n",
       "      <td>58126146908</td>\n",
       "      <td>ซื้อเกราะลำตัว (46.15.15.04 ) โดยวิธีกรณีพิเศษ</td>\n",
       "      <td>POINT(100.519873059321 13.7873113160748)</td>\n",
       "      <td>police</td>\n",
       "      <td>16</td>\n",
       "      <td>1</td>\n",
       "      <td>5m-10m</td>\n",
       "    </tr>\n",
       "  </tbody>\n",
       "</table>\n",
       "</div>"
      ],
      "text/plain": [
       "      project_type_name_eng purchase_method_group_name_eng province_eng  \\\n",
       "21523                   buy                  Special cases      Bangkok   \n",
       "78381                   buy                  Special cases      Bangkok   \n",
       "78965                   buy                  Special cases      Bangkok   \n",
       "89911                   buy                  Special cases      Bangkok   \n",
       "\n",
       "      project_status_eng district_eng announce_date_eng transaction_date_eng  \\\n",
       "21523    End of contract        Dusit               NaN          14 Sep 2015   \n",
       "78381    End of contract        Dusit               NaN           7 Jun 2016   \n",
       "78965    End of contract        Dusit               NaN          16 Sep 2016   \n",
       "89911    End of contract        Dusit               NaN          22 Dec 2015   \n",
       "\n",
       "       project_money_cleaned price_build_cleaned  sum_price_agree_cleaned  \\\n",
       "21523                6300000             6300000                  6259200   \n",
       "78381               53415000            53415000                 53388000   \n",
       "78965               35311900            35241040                 35264660   \n",
       "89911                6715000             6715000                  6674000   \n",
       "\n",
       "                dept_name_eng  budget_year_cleaned   project_id  \\\n",
       "21523  National Police Agency                 2015  58056010347   \n",
       "78381  National Police Agency                 2016  59056160888   \n",
       "78965  National Police Agency                 2016  59096184193   \n",
       "89911  National Police Agency                 2016  58126146908   \n",
       "\n",
       "                                         project_name  \\\n",
       "21523  ซื้อเกราะลำตัว (46.15.15.04 ) โดยวิธีกรณีพิเศษ   \n",
       "78381  ซื้อเกราะลำตัว (46.15.15.04 ) โดยวิธีกรณีพิเศษ   \n",
       "78965     ซื้อสนับศอก (46.15.15.04 ) โดยวิธีกรณีพิเศษ   \n",
       "89911  ซื้อเกราะลำตัว (46.15.15.04 ) โดยวิธีกรณีพิเศษ   \n",
       "\n",
       "                                           geom dept_name_group  Topic_group  \\\n",
       "21523  POINT(100.519873059321 13.7873113160748)          police           16   \n",
       "78381                                       NaN          police           16   \n",
       "78965                                       NaN          police           16   \n",
       "89911  POINT(100.519873059321 13.7873113160748)          police           16   \n",
       "\n",
       "       iForest_outlier Spending_tranche  \n",
       "21523                1           5m-10m  \n",
       "78381               -1         50m-100m  \n",
       "78965               -1          10m-50m  \n",
       "89911                1           5m-10m  "
      ]
     },
     "execution_count": 281,
     "metadata": {},
     "output_type": "execute_result"
    }
   ],
   "source": [
    "df_project[(df_project['project_type_name_eng'] == 'buy') \n",
    "           & (df_project['purchase_method_group_name_eng'] == 'Special cases')\n",
    "           & (df_project['project_status_eng'] == 'End of contract')\n",
    "           & (df_project['dept_name_group'] == 'police')\n",
    "           & (df_project['Topic_group'] == 16)]"
   ]
  },
  {
   "cell_type": "code",
   "execution_count": null,
   "metadata": {},
   "outputs": [],
   "source": []
  },
  {
   "cell_type": "code",
   "execution_count": null,
   "metadata": {},
   "outputs": [],
   "source": []
  }
 ],
 "metadata": {
  "kernelspec": {
   "display_name": "Python 3",
   "language": "python",
   "name": "python3"
  },
  "language_info": {
   "codemirror_mode": {
    "name": "ipython",
    "version": 3
   },
   "file_extension": ".py",
   "mimetype": "text/x-python",
   "name": "python",
   "nbconvert_exporter": "python",
   "pygments_lexer": "ipython3",
   "version": "3.7.6"
  }
 },
 "nbformat": 4,
 "nbformat_minor": 4
}
