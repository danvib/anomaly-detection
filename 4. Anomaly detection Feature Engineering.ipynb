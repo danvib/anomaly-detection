{
 "cells": [
  {
   "cell_type": "code",
   "execution_count": 2,
   "metadata": {},
   "outputs": [],
   "source": [
    "import requests\n",
    "import pandas as pd\n",
    "import numpy as np\n",
    "import csv\n",
    "import io\n",
    "import datetime\n",
    "from sqlalchemy import create_engine\n",
    "import pyodbc\n",
    "import urllib.request\n",
    "import json\n",
    "import pyodbc\n",
    "from sqlalchemy import create_engine\n",
    "import sqlalchemy\n",
    "from pandas.io.json import json_normalize\n",
    "import time\n",
    "import dateparser\n",
    "from googletrans import Translator\n",
    "import timeit\n",
    "import codecs\n",
    "import pickle\n",
    "import pythainlp\n",
    "\n",
    "from pythainlp import sent_tokenize, word_tokenize\n",
    "from pythainlp.corpus import wordnet\n",
    "from nltk.stem.porter import PorterStemmer\n",
    "from nltk.corpus import words\n",
    "from nltk.corpus import stopwords\n",
    "from gensim import corpora\n",
    "from sklearn.feature_extraction.text import TfidfVectorizer\n",
    "from sklearn.decomposition import LatentDirichletAllocation as LDA\n",
    "from sklearn.feature_extraction.text import CountVectorizer\n",
    "from sklearn.decomposition import TruncatedSVD\n",
    "from sklearn.cluster import KMeans\n",
    "from sklearn.decomposition import NMF"
   ]
  },
  {
   "cell_type": "markdown",
   "metadata": {},
   "source": [
    "1. create dept grouping manually using IF contain text statement\n",
    "\n",
    "2. Create topic grouping for project name\n",
    "    2.1: Tokenize, remove stop word, remove unwanted word from project name\n",
    "    2.2: Use tf idf to assign score for each word\n",
    "    2.3: Use NMF to create 20 topic grouping."
   ]
  },
  {
   "cell_type": "code",
   "execution_count": 3,
   "metadata": {},
   "outputs": [
    {
     "name": "stderr",
     "output_type": "stream",
     "text": [
      "C:\\Users\\v-krvibh\\anaconda3\\lib\\site-packages\\IPython\\core\\interactiveshell.py:3063: DtypeWarning: Columns (8) have mixed types.Specify dtype option on import or set low_memory=False.\n",
      "  interactivity=interactivity, compiler=compiler, result=result)\n"
     ]
    }
   ],
   "source": [
    "df_contract = pd.read_csv(\"contract_eng_consolidated.csv\")\n",
    "df_project = pd.read_csv(\"project_eng_consolidated.csv\")"
   ]
  },
  {
   "cell_type": "code",
   "execution_count": 151,
   "metadata": {},
   "outputs": [
    {
     "data": {
      "text/plain": [
       "(401219, 16)"
      ]
     },
     "execution_count": 151,
     "metadata": {},
     "output_type": "execute_result"
    }
   ],
   "source": [
    "df_project.shape"
   ]
  },
  {
   "cell_type": "code",
   "execution_count": 4,
   "metadata": {},
   "outputs": [],
   "source": [
    "\n",
    "\n",
    "def dept_name_grouping(x):\n",
    "    x = x.lower()\n",
    "    if \"hospital\" in x:\n",
    "        return \"Hospital\"\n",
    "    elif any(ele in x for ele in ['university','campus','institute','college','faculty']):\n",
    "        return \"Higher education\"\n",
    "    elif any(ele in x for ele in ['school','kindergarten']):\n",
    "        return 'School'\n",
    "    elif any(ele in x for ele in ['municipality','subdistrict','sub-district','district','provincial']):\n",
    "        return 'Local Government unit'\n",
    "    elif any(ele in x for ele in ['office','department','government']):\n",
    "        return 'department'\n",
    "    elif 'provincial' in x:\n",
    "        return 'provincial'\n",
    "    elif 'police' in x:\n",
    "        return 'police'\n",
    "    return 'Other'"
   ]
  },
  {
   "cell_type": "code",
   "execution_count": 5,
   "metadata": {},
   "outputs": [],
   "source": [
    "#df_project['dept_name_group'] = df_project['dept_name_eng'].apply(dept_name_grouping)"
   ]
  },
  {
   "cell_type": "code",
   "execution_count": 6,
   "metadata": {},
   "outputs": [],
   "source": [
    "#df_project.to_csv(\"project_eng_consolidated.csv\", index = False)"
   ]
  },
  {
   "cell_type": "code",
   "execution_count": 165,
   "metadata": {},
   "outputs": [],
   "source": [
    "Topic_grouping = df_project[['project_name','dept_name_eng']]"
   ]
  },
  {
   "cell_type": "code",
   "execution_count": 166,
   "metadata": {},
   "outputs": [
    {
     "name": "stderr",
     "output_type": "stream",
     "text": [
      "C:\\Users\\v-krvibh\\anaconda3\\lib\\site-packages\\pandas\\core\\generic.py:6746: SettingWithCopyWarning: \n",
      "A value is trying to be set on a copy of a slice from a DataFrame\n",
      "\n",
      "See the caveats in the documentation: https://pandas.pydata.org/pandas-docs/stable/user_guide/indexing.html#returning-a-view-versus-a-copy\n",
      "  self._update_inplace(new_data)\n"
     ]
    }
   ],
   "source": [
    "#### Topic Modeling ########\n",
    "\n",
    "## replace thai num with english num\n",
    "# thai number in the list\n",
    "num_map = {}\n",
    "num_eng = 0\n",
    "for num_thai in pythainlp.thai_digits:\n",
    "    num_map[str(num_thai)] = str(num_eng)\n",
    "    num_eng += 1\n",
    "Topic_grouping['project_name'].replace(num_map, inplace=True, regex=True)"
   ]
  },
  {
   "cell_type": "code",
   "execution_count": 192,
   "metadata": {},
   "outputs": [],
   "source": [
    "## function to remove stop word and unwanted word\n",
    "\n",
    "## get word that have length greater than....\n",
    "## get word that have count greater than...\n",
    "def preprocess_data(txt_string):\n",
    "    tokens = word_tokenize(txt_string, keep_whitespace=False)\n",
    "    tokens = [i for i in tokens if not i in th_stop and not i in en_stop and not i in th_manual_word and len(i) > 2]\n",
    "    return tokens"
   ]
  },
  {
   "cell_type": "code",
   "execution_count": 193,
   "metadata": {},
   "outputs": [],
   "source": [
    "# put tokenize word back into list and join them using ,\n",
    "def tokenize_text(raw_col):\n",
    "    tokens_list = [preprocess_data(txt) for txt in raw_col]\n",
    "    tokens_list_j = [','.join(tkn) for tkn in tokens_list]\n",
    "    return tokens_list_j"
   ]
  },
  {
   "cell_type": "code",
   "execution_count": 194,
   "metadata": {},
   "outputs": [],
   "source": [
    "en_stop = set(stopwords.words('english'))\n",
    "th_stop = pythainlp.corpus.thai_stopwords()\n",
    "th_manual_word = ['ประกวดราคา', 'จ้าง','ทางอิเล็กทรอนิกส์','ซื้อ','กรณีพิเศษ','(',')' ,'/' ,'+','-' ,'e-bidding',\n",
    "                  'อิเล็กทรอนิกส์']\n",
    "\n",
    "project_type_name_th = ['จ้างก่อสร้าง', 'จ้างทำของ/จ้างเหมาบริการ', 'ซื้อ', 'เช่า',\n",
    "       'จ้างที่ปรึกษา', 'จ้างควบคุมงาน', 'จ้างออกแบบ',\n",
    "       'จ้างออกแบบและควบคุมงาน']\n",
    "\n",
    "purchase_method_group_name_th = ['ประกวดราคา', 'ประกวดราคาด้วยวิธีการทางอิเล็กทรอนิกส์', 'พิเศษ',\n",
    "       'จ้างที่ปรึกษา', 'กรณีพิเศษ',\n",
    "       'ประกวดราคาอิเล็กทรอนิกส์ (e-bidding)', 'สอบราคา', 'ตกลงราคา',\n",
    "       'ตลาดอิเล็กทรอนิกส์ (e-market)', 'จ้างออกแบบ', 'คัดเลือก',\n",
    "       'เฉพาะเจาะจง']\n",
    "\n",
    "purchase_method_group_name_eng = ['Bidding', 'E-bidding', 'Special',\n",
    "        'Hire consultants', 'Special cases',\n",
    "        'E-bidding','Price examination','Agreed price',\n",
    "        'E-market', 'Hire to design', 'selection',\n",
    "        'Specific']\n",
    "\n",
    "province_th = ['นนทบุรี', 'กรุงเทพมหานคร', 'อุตรดิตถ์', 'เชียงราย', 'ชลบุรี',\n",
    "       'พระนครศรีอยุธยา', 'สมุทรปราการ', 'ปทุมธานี', 'ลำปาง', 'นครนายก',\n",
    "       'เชียงใหม่', 'ขอนแก่น', 'พะเยา', 'ปัตตานี', 'ลพบุรี',\n",
    "       'อุบลราชธานี', 'ยะลา', 'นครราชสีมา', 'อุดรธานี', 'สมุทรสาคร',\n",
    "       'บึงกาฬ', 'จันทบุรี', 'ฉะเชิงเทรา', 'นครศรีธรรมราช', 'สงขลา',\n",
    "       'นครปฐม', 'มหาสารคาม', 'กาญจนบุรี', 'แพร่', 'พิจิตร', 'ภูเก็ต',\n",
    "       'พิษณุโลก', 'กาฬสินธุ์', 'กำแพงเพชร', 'สุราษฎร์ธานี', 'ระยอง',\n",
    "       'ศรีสะเกษ', 'เพชรบุรี', 'เลย', 'ชัยภูมิ', 'สกลนคร', 'นครพนม',\n",
    "       'บุรีรัมย์', 'สระบุรี', 'ปราจีนบุรี', 'สุรินทร์', 'นครสวรรค์',\n",
    "       'เพชรบูรณ์', 'นราธิวาส', 'ประจวบคีรีขันธ์', 'ลำพูน', 'ยโสธร',\n",
    "       'สุโขทัย', 'สตูล', 'พังงา', 'ชัยนาท', 'กระบี่', 'พัทลุง', 'ชุมพร',\n",
    "       'ตาก', 'ตรัง', 'อำนาจเจริญ', 'ราชบุรี', 'ร้อยเอ็ด', 'หนองคาย',\n",
    "       'มุกดาหาร', 'สิงห์บุรี', 'สมุทรสงคราม', 'สุพรรณบุรี', 'อ่างทอง',\n",
    "       'ตราด', 'ระนอง', 'น่าน', 'อุทัยธานี', 'สระแก้ว', 'หนองบัวลำภู',\n",
    "       'แม่ฮ่องสอน']\n",
    "\n",
    "th_manual_word = th_manual_word + project_type_name_th + purchase_method_group_name_th + purchase_method_group_name_eng +province_th"
   ]
  },
  {
   "cell_type": "code",
   "execution_count": 196,
   "metadata": {},
   "outputs": [
    {
     "name": "stderr",
     "output_type": "stream",
     "text": [
      "C:\\Users\\v-krvibh\\anaconda3\\lib\\site-packages\\ipykernel_launcher.py:2: SettingWithCopyWarning: \n",
      "A value is trying to be set on a copy of a slice from a DataFrame.\n",
      "Try using .loc[row_indexer,col_indexer] = value instead\n",
      "\n",
      "See the caveats in the documentation: https://pandas.pydata.org/pandas-docs/stable/user_guide/indexing.html#returning-a-view-versus-a-copy\n",
      "  \n"
     ]
    }
   ],
   "source": [
    "# create a column of tokenize word\n",
    "Topic_grouping['clean_project_name'] = tokenize_text(Topic_grouping['project_name'])"
   ]
  },
  {
   "cell_type": "code",
   "execution_count": 197,
   "metadata": {},
   "outputs": [],
   "source": [
    "\n",
    "#Tfidf: Count how often it occur in each document as well as how often it occur overall\n",
    "# if occur a lot in that document, the word is important, but if occur a lot in overall, not as important\n",
    "tvec = TfidfVectorizer(analyzer=lambda x:x.split(','),)\n",
    "X = tvec.fit_transform(Topic_grouping['clean_project_name'])"
   ]
  },
  {
   "cell_type": "code",
   "execution_count": 200,
   "metadata": {},
   "outputs": [],
   "source": [
    "######## Method 3: LDA & NMF ##########\n",
    "\n",
    "\n",
    "#helper method to print top 10 topics\n",
    "def print_top_words(model, feature_names, n_top_words):\n",
    "    for topic_idx, topic in enumerate(model.components_):\n",
    "        message = \"Topic #%d: \" % topic_idx\n",
    "        message += \" \".join([feature_names[i]\n",
    "                             for i in topic.argsort()[:-n_top_words - 1:-1]])\n",
    "        print(message)\n",
    "    print()\n",
    "#####\n",
    "tf_feature_names = tvec.get_feature_names()"
   ]
  },
  {
   "cell_type": "code",
   "execution_count": 203,
   "metadata": {},
   "outputs": [],
   "source": [
    "#### NMF\n",
    "nmf = NMF(n_components=20, random_state=1,\n",
    "          beta_loss='kullback-leibler', solver='mu', max_iter=1000, alpha=.1,\n",
    "          l1_ratio=.5).fit(X)"
   ]
  },
  {
   "cell_type": "code",
   "execution_count": 228,
   "metadata": {},
   "outputs": [
    {
     "name": "stdout",
     "output_type": "stream",
     "text": [
      "Topic #0: อำเภอ จังหวัด ตำบล ก่อสร้าง หมู่ บ้าน วิธี โครงการ เมือง สาย ถนน ท่า ห้วย หนอง วัง คลอง วิธีการ หิน ทอง ทุ่ง คอนกรีตเสริมเหล็ก โครง ยาง แม่ ถนนลาดยาง ป่า ศรี เกาะ น้ำ วัด ผิวจราจร การปรับปรุง แก้ว ฝาย เชื่อม ช้าง ปาก ทราย บึง บ่อ ระยะทาง ชัย ควน ไทร เชื่อมต่อ หลวง โคก บุรี หัว พระ\n",
      "Topic #1: รายการ จำนวน วิธี ครุภัณฑ์ การแพทย์ น้ำมันเชื้อเพลิง เวชภัณฑ์ วัสดุก่อสร้าง (ย. ทางการแพทย์ โรงพยาบาล tablet ประเภท วิทยาศาสตร์ 100 000 น้ำมันดีเซลหมุนเร็ว อากาศยาน ลิตร น้ำมัน 51.99.99.99 injection ปอร์ตแลนด์ พัสดุ ปูนซีเมนต์ กล่อง ผลิต สำหรับ solution มหาราช มอก. ขาย กก. 500 พิมพ์ 12.18.16.00 งานบ้าน เม็ด เลขที่ film-coated ครัว 1267 2544 ผลิตภัณฑ์ capsule ราคา 250 ASL รอง vial\n",
      "Topic #2: กม. ตอน ทางหลวง งาน หมายเลข ปริมาณ ควบคุม เหมา ทำการ จ้างงาน แอสฟัลต์ ผิว 000 ตร. บูรณะ กิจกรรม 0100 อันตราย 500 ราว  ต้น ทำงาน เสริม การงาน ติดตั้ง บำรุงรักษา 0102 เครื่องหมายจราจร แขวง แสงสว่าง เป็นช่วงๆ ป้ายจราจร 800 200 รหัส 0101 700 900 ระยะทาง ฉาบ 600 300 ซ่อม ห้วย แม่ เป็นช่วง ซ้าย สะพาน มาตรฐาน\n",
      "Topic #3: อาคาร ก่อสร้าง อาคารเรียน ปรับปรุง ชั้น วิธี ห้องเรียน สปช. 105 โล่ง ใต้ถุน ห้อง สิ่งก่อสร้าง วิธีการ อาคารสำนักงาน ที่ทำการ อเนกประสงค์ โรง โรงอาหาร หลังคา พื้นที่ ห้องน้ำ บันได เอนกประสงค์ หอประชุม ครอบครัว สำนักงาน งาน รั้ว 102 หน่วย ต่อเติม หอพัก ขนาด งานก่อสร้าง จอด ที่พักอาศัย แฟลต ห้องประชุม แผ่นดินไหว ตำรวจภูธร ชั้นล่าง บ้านพัก กอง สปช ซ่อมแซม จ้างงาน โรงเรียนเทศบาล ข้าราชการ ลาน\n",
      "Topic #4: ศูนย์ พัฒนา อาคาร เด็กเล็ก ก่อสร้าง โครงการ น้ำ เขต ท่อ สาขา งาน วิธี ขนาด วิธีการ พื้นที่ ขยาย เทศบาลตำบล จำหน่าย สำหรับ องค์การบริหารส่วนตำบล งานก่อสร้าง ระบบ เสาเข็ม วาง ไม้ สำนักงาน ตอก เลขที่ พลังงาน ที่ดิน เนื้ออ่อน กลาง 100 จ่าย แปรรูป การบริหาร เพิ่มประสิทธิภาพ ต่าง ๆ พระราชดำริ น้ำประปา ผลิต ส่งเสริม ดิน การประปาส่วนภูมิภาค น้ำบาดาล สัญญา ชุมชน ทดแทน มาตรฐาน ทั่วไป\n",
      "Topic #5: ประปา ระบบ หมู่บ้าน ก่อสร้าง ขนาดใหญ่ ดิน โครงการ หมู่ บาดาล วิธีการ น้ำ กลาง บ้าน ผิว ขนาด ทรัพยากร มาตรฐาน กรม ถัง ลูกบาศก์เมตร ตำบล ความจุ เหล็ก โนน บ่อ ก่อ แชมเปญ โคก ธรรมดา กระจาย ขุดเจาะ ขนาดเล็ก หมู่ เมน ดอน แบบแปลน สร้างกำแพง เจริญ ประมูล ท่อ ภูเขา กรอง ทุ่ง สะอาด รายละเอียด สามัคคี หัว รูปทรง กลางบ้าน เหนือ\n",
      "Topic #6: คัน ขนาด รถยนต์ ดีเซล ล้อ ยานพาหนะ รถบรรทุก จำนวน ตัน ต่ำกว่า ขนส่ง ที่นั่ง วิธี จัดซื้อ ปริมาตร เครื่องยนต์ บรรทุก ครุภัณฑ์ กระบอกสูบ ท้าย 400 รถโดยสาร วิธีการ อัด ขยะ 2 ขับเคลื่อน โดยสาร กิโลวัตต์ รถตู้ 000 ชนิด ลิตร รถพยาบาล แรงม้า ซ่อม เพลิง ดับ น้ำ 25.10.15.03 ตู้ น้ำมันดีเซล หมุน เครน ดับเบิ้ล ความจุ 6 ฉุกเฉิน กระเช้า อเนกประสงค์\n",
      "Topic #7: ระบบ อุปกรณ์ วิธี บำรุงรักษา ซ่อม ข้อมูล งาน คอมพิวเตอร์ สำหรับ อะไหล่ บริการ ซ่อมบำรุง ติดตั้ง ตกลง สารสนเทศ ราคา ท่าอากาศยาน จำนวน เครือข่าย ระบบเครือข่าย สนับสนุน สื่อสาร เครื่องมือ เรือ ข่าย ตรวจสอบ ฐานข้อมูล บริหาร โปรแกรม สัญญาณ ให้บริการ สำรอง บิน เครื่องคอมพิวเตอร์ ชิ้นส่วน จัดเก็บ ไร้สาย เหมา แม่ หน่วย เสียง System รองรับ ภาพ วงจร อัตโนมัติ ดูแล อินเตอร์เน็ต คลัง ปฏิบัติงาน\n",
      "Topic #8: คอนกรีต ติก ซ่อม สร้าง ผิว สาย สฟัลท์ แยก บ้าน ถนนลาดยาง สฟัล ทางหลวง Pavement Recycling หมายเลข ระยะทาง พารา วิธีการ เสริม กิโลเมตร Place ลาดยาง ผิวจราจร In-Place ชนบท ซีล Concrete ยางพารา ตอนที่ ลาด Asphaltic Para จ้างงาน เลอ เงินกู้ Seal แอสฟัลต์ ฉาบ รี่ เร่งด่วน อบจ. สฟัสท์ บริหาร Asphalt รอ. ขนส่ง สร้างเสริม ท้องถิ่น ธรรมชาติ Cape\n",
      "Topic #9: โครง ครุภัณฑ์ คอมพิวเตอร์ การพัฒนา วิธี จังหวัด เมือง ฟื้นฟู การปรับปรุง สำนักงาน ชุด การศึกษา ห้องปฏิบัติการ การอนุรักษ์ แหล่งน้ำ พื้นที่ ที่ปรึกษา อนุรักษ์ ภูมิทัศน์ เทคโนโลยี การเรียน อำเภอ ปฏิบัติการ การสอน แหล่งท่องเที่ยว การเกษตร พระ มหาวิทยาลัย ชุมชน อุปกรณ์ พ่วง เชิง แหล่ง ออกแบบ ตำบล เฉลิมพระเกียรติ วิทยาลัย อุทกภัย กิจกรรม ห้อง โครงสร้างพื้นฐาน บริเวณ ชายแดน ภาคใต้ คณะ สำหรับ น้ำหนอง คุณภาพ 43.21.15.00 เทคโนโลยีสารสนเทศ\n",
      "Topic #10: ปีงบประมาณ ประจำ วิธี โครงการ พ.ศ. ที่ปรึกษา 2562 2561 ประชาสัมพันธ์ ประจำปี 2560 ไทย สื่อ ผลิต 2559 สนับสนุน ตกลง เผยแพร่ ดำเนิน 2558 ประเทศ ดำเนินการ แผน สป. พิมพ์ ดำเนินงาน สร้าง หลักสูตร จัดกิจกรรม แห่งชาติ ยุทโธปกรณ์ วิชาการ งบประมาณ ธุรกิจ การศึกษา อาชีพ ส่งเสริม อาเซียน การเรียน โฆษณา ศึกษา ภาษาอังกฤษ ฝึกอบรม เสริมสร้าง ต่างประเทศ อุตสาหกรรม คุณภาพ 2563 การเรียนรู้ ประชาชน\n",
      "Topic #11: วัสดุ วิทยาศาสตร์ วิธี การเกษตร การแพทย์ ส่งเสริม กิจกรรม เชื้อเพลิง การท่องเที่ยว ผลิตภัณฑ์ สินค้า OTOP ชุมชน การผลิต โครงการ การพัฒนา ท่องเที่ยว เกษตร ของใช้ ข้าว วิถี จังหวัด อาหาร บริโภค ศักยภาพ พัฒนา ประเภท ตลาด หล่อลื่น วัต การตลาด ปลอดภัย แปลง สุขภาพ มหกรรม นพค. ยกระดับ โครง มาตรฐาน ยั่งยืน เพิ่มประสิทธิภาพ วัฒนธรรม จัดแสดง เชิง เกษตรกร สนับสนุน บรรจุภัณฑ์ คุณภาพ มหาราช ประเพณี\n",
      "Topic #12: ปรับปรุง ซ่อมแซม ถนน ซอย ก่อสร้าง คอนกรีตเสริมเหล็ก บริเวณ ท่อระบายน้ำ วิธีการ ระบาย วาง ผิวจราจร ค.ส. หมู่ ราง น้ำ ชุมชน เทศบาล เขต บ่อ พัก สาย การปรับปรุง ฝั่ง จ้างงาน สถานี ภูมิทัศน์ เดิม ขยาย คอนกรีต สฟัลท์ เลียบ เหมา สูบน้ำ ทางเข้า รอบ ไฟฟ้า ติก คลองส่งน้ำ ทางเท้า 72.10.15.01 สาธารณูปโภค ประชา ชำรุดทรุดโทรม หน้า ซ้าย ขวา ดาด สุข ทั่วไป\n",
      "Topic #13: ไฟฟ้า ติดตั้ง แยก จำนวน ความปลอดภัย ทางหลวง สาย หมายเลข แสงสว่าง อำนวย สถานี บริเวณ งาน ถนน เหมา จังหวัด สูบน้ำ ระบบ อำเภอ ไฟสัญญาณจราจร เมือง ชนบท อุปกรณ์ จ้างงาน น้ำ ระบาย หลัก CCTV หน้า กล้องวงจรปิด ทางแยก ท่อ เครื่องสูบน้ำ โครงสร้าง วงจรปิด วิธีการ เสี่ยงอันตราย กล้องโทรทัศน์ พลังงานแสงอาทิตย์ ปรับปรุงแก้ไข ชนิด เข้าสู่ เสา กิจกรรม การงาน ราง สะพาน จุด หม้อแปลง ส่องสว่าง\n",
      "Topic #14: เหมา บริการ วิธีการ รักษา ทำความสะอาด ปีงบประมาณ ความปลอดภัย ประจำ 2558 2560 2561 2559 2562 เลขที่ งาน เดือน พนักงาน กำจัด พ.ศ. ดูแล ขยะมูลฝอย วันที่ ระยะเวลา จำนวน พื้นที่ สถานที่ เอกชน ความสะอาด จ้างทำของ ปฏิบัติงาน ประจำปี สำนักงาน ขับ บำรุงรักษา กันยายน ต้นไม้ ดูแลรักษา ตุลาคม ทรัพย์สิน หิน บุคคลภายนอก 2557 อัตรา เบอร์ หยาบ เจ้าหน้าที่ จ้างงาน สวน ขยะ สรรพากร\n",
      "Topic #15: เมตร ชุด ขนาด 1 สำหรับ จำนวน เลขที่ ชนิด 000 หนา วิธี คอนกรีต 3 2 4 ตารางเมตร เหล็กเส้น เครื่องคอมพิวเตอร์ ผู้ป่วย 5 0.15 มม. เสริม ผสมเสร็จ อุปกรณ์ วิธีการ พื้นที่ เหล็ก 7 6 บาท 200 นิ้ว 8 500 9 6.00 ฝึก 0.05 10 ไหล่ทาง รหัส บรรจุ ถุง แผ่น หิน ลูกรัง เครื่องพิมพ์ ประมวลผล ผสม\n",
      "Topic #16: เครื่อง ชุด ตรวจ จำนวน วิธี โรงพยาบาล ชนิด วิเคราะห์ หัวใจ อัตโนมัติ น้ำยา ใช้สอย ตารางเมตร เอกซเรย์ สาร กล้อง เครื่องช่วยหายใจ ความถี่ ผ่าตัด เลือด เตียง ตัด ทดสอบ ชิ้น เทียม คลื่นเสียง ควบคุม การทำงาน ส่อง เครื่องมือ สุขภาพ อวัยวะภายใน ติดตาม อากาศ เคลื่อนที่ เครื่องปรับอากาศ กระดูก ยูนิต เครื่องวัด ความดัน ระบบดิจิตอล สาธารณสุข หัว ทั่วไป เจาะ เครื่องถ่ายเอกสาร สัญญาณ ดิจิตอล ยาสลบ 300\n",
      "Topic #17: บ้าน หนอง หมู่ ถนน สาย คอนกรีตเสริมเหล็ก ตำบล โนน บัว โคก เชื่อม ท้องถิ่น แม่ ดอน ม่วง ไผ่ โรงเรียน รหัส ขาม หัว คลุก การปรับปรุง สัน หน้า โพน แวง ทางหลวง หญ้า ป่า หว้า กุด บึง แดง เจริญ ถนนลูกรัง ปรือ พัฒนา โป่ง สว่าง จิก 72.14.10.01 สอง บอน ทางบ้าน พิสัย ฉาง สะอาด แน่น ตาล เวียง\n",
      "Topic #18: จัดซื้อ โรงเรียน อาหารเสริม บ้านพัก (นม) หนังสือเรียน อาหาร สำหรับ ปีการศึกษา ภาคเรียน นักเรียน ดิบ ระดับ ประจำ 2561 ครู กีฬา ผู้ต้องขัง เลี้ยง สนามกีฬา เรือน การศึกษา ข้าราชการ 2560 แถว 2558 2562 นายทหาร ลาน ประทวน เครื่องปรุง หนังสือ เป็นราย อเนกประสงค์ ปีงบประมาณ 2559 ในสังกัด สนาม นอน หมวด ฟรี ขั้นพื้นฐาน 203 วิทยา สังกัด ประจำเดือน ประถมศึกษา ส้วม ค่า อาหารกลางวัน\n",
      "Topic #19: ขุด คลอง ลอก เมตร โรงเรียน วิธี เขื่อน โครงการ จ้างงาน เหมา ป้องกัน วัด สะพาน 93.14.18.00 ตลิ่ง บริเวณ ข้าม งาน สนาม หน้า เขต ป้าย สระ ริมแม่น้ำ น้ำ ฟุตซอล ค่า แม่น้ำ แหล่งน้ำ ชลประทาน ริม พื้นที่ บริการ ฝั่ง ดิน สาธารณะ อาหารกลางวัน เดิม ลำห้วย กีฬา บ่อ องค์การบริหารส่วนจังหวัด 72.12.14.06 ลำน้ำ กั้น อ่างเก็บน้ำ ระบาย จว. หลวง 1\n",
      "\n"
     ]
    }
   ],
   "source": [
    "print_top_words(nmf, tf_feature_names, 50)"
   ]
  },
  {
   "cell_type": "markdown",
   "metadata": {},
   "source": [
    "Factor A into W,H"
   ]
  },
  {
   "cell_type": "markdown",
   "metadata": {},
   "source": [
    "Use W to get topics"
   ]
  },
  {
   "cell_type": "code",
   "execution_count": 229,
   "metadata": {},
   "outputs": [],
   "source": [
    "W = nmf.fit_transform(X)"
   ]
  },
  {
   "cell_type": "code",
   "execution_count": 230,
   "metadata": {},
   "outputs": [],
   "source": [
    "assign_topic = np.argmax(W,axis = 1)"
   ]
  },
  {
   "cell_type": "code",
   "execution_count": 236,
   "metadata": {},
   "outputs": [
    {
     "name": "stdout",
     "output_type": "stream",
     "text": [
      "Number of documents in topics  0  is  35097  and  8.74759171425082 % of total \n",
      "Number of documents in topics  1  is  31119  and  7.756113244886209 % of total \n",
      "Number of documents in topics  2  is  23834  and  5.940396641235834 % of total \n",
      "Number of documents in topics  3  is  26674  and  6.648239490153757 % of total \n",
      "Number of documents in topics  4  is  19092  and  4.758498475894711 % of total \n",
      "Number of documents in topics  5  is  12552  and  3.1284659998654103 % of total \n",
      "Number of documents in topics  6  is  19699  and  4.909787422828929 % of total \n",
      "Number of documents in topics  7  is  22893  and  5.705861387421832 % of total \n",
      "Number of documents in topics  8  is  20875  and  5.202894179986491 % of total \n",
      "Number of documents in topics  9  is  17111  and  4.264753164730484 % of total \n",
      "Number of documents in topics  10  is  18563  and  4.62665028326176 % of total \n",
      "Number of documents in topics  11  is  13663  and  3.4053721284385836 % of total \n",
      "Number of documents in topics  12  is  20464  and  5.1004563592452 % of total \n",
      "Number of documents in topics  13  is  17877  and  4.455671341586515 % of total \n",
      "Number of documents in topics  14  is  16326  and  4.0690994195190155 % of total \n",
      "Number of documents in topics  15  is  18447  and  4.597738392249619 % of total \n",
      "Number of documents in topics  16  is  21103  and  5.259721000251733 % of total \n",
      "Number of documents in topics  17  is  12918  and  3.219688000817509 % of total \n",
      "Number of documents in topics  18  is  15675  and  3.906843893235365 % of total \n",
      "Number of documents in topics  19  is  17237  and  4.296157460140223 % of total \n"
     ]
    }
   ],
   "source": [
    "for i in range(nmf.n_components):\n",
    "    print(\"Number of documents in topics \", i,\" is \", np.sum(assign_topic==i), \" and \", np.sum(assign_topic==i)/len(assign_topic) *100, '% of total ')"
   ]
  },
  {
   "cell_type": "code",
   "execution_count": null,
   "metadata": {},
   "outputs": [],
   "source": [
    "### find location where \n",
    "### \n",
    "'''\n",
    "feature_names[i]\n",
    "                             for i in topic.argsort()[:-n_top_words - 1:-1]])\n",
    "                             \n",
    "1. return index of the array in order to sort it from 0 to max\n",
    "2. \n",
    "\n",
    "    '''\n"
   ]
  },
  {
   "cell_type": "code",
   "execution_count": 242,
   "metadata": {},
   "outputs": [],
   "source": [
    "df_project[\"Topic_group\"] = assign_topic"
   ]
  },
  {
   "cell_type": "code",
   "execution_count": 246,
   "metadata": {},
   "outputs": [],
   "source": [
    "#df_project.to_csv('project_eng_consolidated_with_Topics.csv',index=False)"
   ]
  },
  {
   "cell_type": "code",
   "execution_count": 247,
   "metadata": {},
   "outputs": [
    {
     "data": {
      "text/html": [
       "<div>\n",
       "<style scoped>\n",
       "    .dataframe tbody tr th:only-of-type {\n",
       "        vertical-align: middle;\n",
       "    }\n",
       "\n",
       "    .dataframe tbody tr th {\n",
       "        vertical-align: top;\n",
       "    }\n",
       "\n",
       "    .dataframe thead th {\n",
       "        text-align: right;\n",
       "    }\n",
       "</style>\n",
       "<table border=\"1\" class=\"dataframe\">\n",
       "  <thead>\n",
       "    <tr style=\"text-align: right;\">\n",
       "      <th></th>\n",
       "      <th>project_type_name_eng</th>\n",
       "      <th>purchase_method_group_name_eng</th>\n",
       "      <th>province_eng</th>\n",
       "      <th>project_status_eng</th>\n",
       "      <th>district_eng</th>\n",
       "      <th>announce_date_eng</th>\n",
       "      <th>transaction_date_eng</th>\n",
       "      <th>project_money_cleaned</th>\n",
       "      <th>price_build_cleaned</th>\n",
       "      <th>sum_price_agree_cleaned</th>\n",
       "      <th>dept_name_eng</th>\n",
       "      <th>budget_year_cleaned</th>\n",
       "      <th>project_id</th>\n",
       "      <th>project_name</th>\n",
       "      <th>geom</th>\n",
       "      <th>dept_name_group</th>\n",
       "      <th>Topic_group</th>\n",
       "    </tr>\n",
       "  </thead>\n",
       "  <tbody>\n",
       "    <tr>\n",
       "      <th>0</th>\n",
       "      <td>Hire for construction</td>\n",
       "      <td>Bidding</td>\n",
       "      <td>Nonthaburi</td>\n",
       "      <td>In progress</td>\n",
       "      <td>Bang Kruai</td>\n",
       "      <td>2 Apr 2013</td>\n",
       "      <td>9 March 2015</td>\n",
       "      <td>0</td>\n",
       "      <td>0</td>\n",
       "      <td>70624000000</td>\n",
       "      <td>Electricity Generating Authority of Thailand</td>\n",
       "      <td>2015</td>\n",
       "      <td>56045006726</td>\n",
       "      <td>ประกวดราคาจ้างซื้อและจ้างก่อสร้างโรงไฟฟ้าเพื่อ...</td>\n",
       "      <td>POINT(100.498178770987 13.8068549692447)</td>\n",
       "      <td>Other</td>\n",
       "      <td>4</td>\n",
       "    </tr>\n",
       "    <tr>\n",
       "      <th>1</th>\n",
       "      <td>Outsourcing / Contracting services</td>\n",
       "      <td>Bidding</td>\n",
       "      <td>Nonthaburi</td>\n",
       "      <td>In progress</td>\n",
       "      <td>Bang Kruai</td>\n",
       "      <td>21 Nov 2014</td>\n",
       "      <td>26 Aug 2015</td>\n",
       "      <td>30000000000</td>\n",
       "      <td>26910000000</td>\n",
       "      <td>22871000000</td>\n",
       "      <td>Electricity Generating Authority of Thailand</td>\n",
       "      <td>2015</td>\n",
       "      <td>57115200071</td>\n",
       "      <td>ประกวดราคาจ้างเหมาขุด-ขนดินและถ่าน ที่เหมืองแม...</td>\n",
       "      <td>POINT(100.498178770987 13.8068549692447)</td>\n",
       "      <td>Other</td>\n",
       "      <td>14</td>\n",
       "    </tr>\n",
       "    <tr>\n",
       "      <th>2</th>\n",
       "      <td>Outsourcing / Contracting services</td>\n",
       "      <td>E-bidding</td>\n",
       "      <td>Bangkok</td>\n",
       "      <td>In progress</td>\n",
       "      <td>Din</td>\n",
       "      <td>27 Aug 2014</td>\n",
       "      <td>13 Oct 2014</td>\n",
       "      <td>4455190000</td>\n",
       "      <td>4480010000</td>\n",
       "      <td>4436575000</td>\n",
       "      <td>Bangkok</td>\n",
       "      <td>2015</td>\n",
       "      <td>57085094977</td>\n",
       "      <td>ประกวดราคาจ้างเหมาเอกชนขนมูลฝอยจากศูนย์กำจัดมู...</td>\n",
       "      <td>POINT(100.565063509801 13.7780980259196)</td>\n",
       "      <td>Other</td>\n",
       "      <td>14</td>\n",
       "    </tr>\n",
       "    <tr>\n",
       "      <th>3</th>\n",
       "      <td>buy</td>\n",
       "      <td>Special</td>\n",
       "      <td>Bangkok</td>\n",
       "      <td>In progress</td>\n",
       "      <td>Dusit</td>\n",
       "      <td>NaN</td>\n",
       "      <td>28 Jan 2015</td>\n",
       "      <td>2800000000</td>\n",
       "      <td>2799999972</td>\n",
       "      <td>2725935375</td>\n",
       "      <td>Army</td>\n",
       "      <td>2015</td>\n",
       "      <td>57085194402</td>\n",
       "      <td>ซื้อฮ.ท.ขนาดเบา แบบที่ 2 จำนวน 6 เครื่อง โดยวิ...</td>\n",
       "      <td>POINT(100.519873059321 13.7873113160748)</td>\n",
       "      <td>Other</td>\n",
       "      <td>6</td>\n",
       "    </tr>\n",
       "    <tr>\n",
       "      <th>4</th>\n",
       "      <td>Hire for construction</td>\n",
       "      <td>E-bidding</td>\n",
       "      <td>Bangkok</td>\n",
       "      <td>In progress</td>\n",
       "      <td>Chatuchak</td>\n",
       "      <td>25 Mar 2014</td>\n",
       "      <td>9 Oct 2014</td>\n",
       "      <td>2599999769</td>\n",
       "      <td>2599999769</td>\n",
       "      <td>2588950000</td>\n",
       "      <td>Army</td>\n",
       "      <td>2015</td>\n",
       "      <td>57035180671</td>\n",
       "      <td>ประกวดราคาจ้างก่อสร้างอาคารเฉลิมพระเกียรติ สมเ...</td>\n",
       "      <td>POINT(100.584152190858 13.8453156541146)</td>\n",
       "      <td>Other</td>\n",
       "      <td>3</td>\n",
       "    </tr>\n",
       "  </tbody>\n",
       "</table>\n",
       "</div>"
      ],
      "text/plain": [
       "                project_type_name_eng purchase_method_group_name_eng  \\\n",
       "0               Hire for construction                        Bidding   \n",
       "1  Outsourcing / Contracting services                        Bidding   \n",
       "2  Outsourcing / Contracting services                      E-bidding   \n",
       "3                                 buy                        Special   \n",
       "4               Hire for construction                      E-bidding   \n",
       "\n",
       "  province_eng project_status_eng district_eng announce_date_eng  \\\n",
       "0   Nonthaburi        In progress   Bang Kruai        2 Apr 2013   \n",
       "1   Nonthaburi        In progress   Bang Kruai       21 Nov 2014   \n",
       "2      Bangkok        In progress          Din       27 Aug 2014   \n",
       "3      Bangkok        In progress        Dusit               NaN   \n",
       "4      Bangkok        In progress    Chatuchak       25 Mar 2014   \n",
       "\n",
       "  transaction_date_eng  project_money_cleaned price_build_cleaned  \\\n",
       "0         9 March 2015                      0                   0   \n",
       "1          26 Aug 2015            30000000000         26910000000   \n",
       "2          13 Oct 2014             4455190000          4480010000   \n",
       "3          28 Jan 2015             2800000000          2799999972   \n",
       "4           9 Oct 2014             2599999769          2599999769   \n",
       "\n",
       "   sum_price_agree_cleaned                                 dept_name_eng  \\\n",
       "0              70624000000  Electricity Generating Authority of Thailand   \n",
       "1              22871000000  Electricity Generating Authority of Thailand   \n",
       "2               4436575000                                       Bangkok   \n",
       "3               2725935375                                          Army   \n",
       "4               2588950000                                          Army   \n",
       "\n",
       "   budget_year_cleaned   project_id  \\\n",
       "0                 2015  56045006726   \n",
       "1                 2015  57115200071   \n",
       "2                 2015  57085094977   \n",
       "3                 2015  57085194402   \n",
       "4                 2015  57035180671   \n",
       "\n",
       "                                        project_name  \\\n",
       "0  ประกวดราคาจ้างซื้อและจ้างก่อสร้างโรงไฟฟ้าเพื่อ...   \n",
       "1  ประกวดราคาจ้างเหมาขุด-ขนดินและถ่าน ที่เหมืองแม...   \n",
       "2  ประกวดราคาจ้างเหมาเอกชนขนมูลฝอยจากศูนย์กำจัดมู...   \n",
       "3  ซื้อฮ.ท.ขนาดเบา แบบที่ 2 จำนวน 6 เครื่อง โดยวิ...   \n",
       "4  ประกวดราคาจ้างก่อสร้างอาคารเฉลิมพระเกียรติ สมเ...   \n",
       "\n",
       "                                       geom dept_name_group  Topic_group  \n",
       "0  POINT(100.498178770987 13.8068549692447)           Other            4  \n",
       "1  POINT(100.498178770987 13.8068549692447)           Other           14  \n",
       "2  POINT(100.565063509801 13.7780980259196)           Other           14  \n",
       "3  POINT(100.519873059321 13.7873113160748)           Other            6  \n",
       "4  POINT(100.584152190858 13.8453156541146)           Other            3  "
      ]
     },
     "execution_count": 247,
     "metadata": {},
     "output_type": "execute_result"
    }
   ],
   "source": [
    "df_project.head()"
   ]
  },
  {
   "cell_type": "code",
   "execution_count": null,
   "metadata": {},
   "outputs": [],
   "source": []
  }
 ],
 "metadata": {
  "kernelspec": {
   "display_name": "Python 3",
   "language": "python",
   "name": "python3"
  },
  "language_info": {
   "codemirror_mode": {
    "name": "ipython",
    "version": 3
   },
   "file_extension": ".py",
   "mimetype": "text/x-python",
   "name": "python",
   "nbconvert_exporter": "python",
   "pygments_lexer": "ipython3",
   "version": "3.7.6"
  }
 },
 "nbformat": 4,
 "nbformat_minor": 4
}
