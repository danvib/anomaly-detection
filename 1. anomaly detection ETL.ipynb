{
 "cells": [
  {
   "cell_type": "markdown",
   "metadata": {},
   "source": [
    "Import needed libraries"
   ]
  },
  {
   "cell_type": "code",
   "execution_count": 2,
   "metadata": {},
   "outputs": [],
   "source": [
    "import requests\n",
    "import pandas as pd\n",
    "import numpy as np\n",
    "import csv\n",
    "import io\n",
    "import datetime\n",
    "import pyodbc\n",
    "import urllib.request\n",
    "import json\n",
    "import pyodbc\n",
    "import sqlalchemy\n",
    "from pandas.io.json import json_normalize\n",
    "import time"
   ]
  },
  {
   "cell_type": "markdown",
   "metadata": {},
   "source": [
    "ETL raw data from government API at https://data.go.th/ and save as a pickle file"
   ]
  },
  {
   "cell_type": "code",
   "execution_count": 4,
   "metadata": {},
   "outputs": [
    {
     "name": "stdout",
     "output_type": "stream",
     "text": [
      "getting row number 0\n",
      "0 trial takes 7.318524122238159 seconds\n",
      "getting row number 100\n",
      "1 trial takes 4.599499940872192 seconds\n",
      "getting row number 200\n",
      "2 trial takes 6.652778387069702 seconds\n",
      "getting row number 300\n",
      "3 trial takes 6.790854454040527 seconds\n",
      "getting row number 400\n",
      "4 trial takes 5.103748321533203 seconds\n"
     ]
    }
   ],
   "source": [
    "years = {\n",
    "        '2558' : 'lurONURJJ4a2kCYMt41ZTBuqOCUQvMmp', #used today \n",
    "        '2559' : 'aQ92erVTgdvIE7g9zivJGTwOllp0exmR', #used yesterday\n",
    "        '2560' : 'oAA5nVzZQ6iLTc77L9FXaAyfbS3Z4dpJ', # used for 2559\n",
    "        '2561' : 'EM5bdWNNsdp7MND4URk76KEWS49yGCMB',\n",
    "        }\n",
    "  \n",
    "#  LMnzeNfoOPRk79eKVpX3e1IWoVtJ2Pfl used\n",
    "#  NveGgxnickjpTodTKtlo9j319fOHt2eC \n",
    "\n",
    "\n",
    "project_list = []\n",
    "contract_list = []\n",
    "url = (\"https://opend.data.go.th/govspending/cgdcontract?api-key=NveGgxnickjpTodTKtlo9j319fOHt2eC&year=2562&\"\n",
    "       + \"budget_start=1000000&limit=100&offset=\")\n",
    "for i in range(0,5):\n",
    "    start = time.time()\n",
    "    offset = str(100*i)\n",
    "    print(\"getting row number \" + offset)\n",
    "    for trial in [1,2,3,4,5]:\n",
    "        try:\n",
    "            response = urllib.request.urlopen(url+offset)\n",
    "            html = response.read()\n",
    "            break;\n",
    "        except:\n",
    "            print(\"Something is wrong! Retry at row \" + offset + \" try again! for the \" + str(trial) + \" times out of 5 times\")\n",
    "\n",
    "    json_obj = json.loads(html)\n",
    "    df_temp = pd.DataFrame(json_obj['result'])\n",
    "    df_contract_temp = pd.json_normalize(data=json_obj['result'], record_path='contract', meta = ['project_id'])\n",
    "    project_list.append(df_temp)\n",
    "    contract_list.append(df_contract_temp)\n",
    "    end = time.time()\n",
    "    print(str(i) + ' trial takes ' + str(end - start)+ ' seconds')"
   ]
  },
  {
   "cell_type": "code",
   "execution_count": 6,
   "metadata": {},
   "outputs": [],
   "source": [
    "df_project = pd.concat(project_list)\n",
    "df_contract = pd.concat(contract_list)"
   ]
  },
  {
   "cell_type": "code",
   "execution_count": 38,
   "metadata": {},
   "outputs": [
    {
     "data": {
      "text/plain": [
       "82860"
      ]
     },
     "execution_count": 38,
     "metadata": {},
     "output_type": "execute_result"
    }
   ],
   "source": [
    "df_project.project_id.nunique()"
   ]
  },
  {
   "cell_type": "code",
   "execution_count": 39,
   "metadata": {},
   "outputs": [
    {
     "name": "stdout",
     "output_type": "stream",
     "text": [
      "(82860, 18)\n",
      "(90005, 8)\n"
     ]
    }
   ],
   "source": [
    "print(df_project.shape)\n",
    "print(df_contract.shape)"
   ]
  },
  {
   "cell_type": "code",
   "execution_count": 40,
   "metadata": {},
   "outputs": [
    {
     "data": {
      "text/html": [
       "<div>\n",
       "<style scoped>\n",
       "    .dataframe tbody tr th:only-of-type {\n",
       "        vertical-align: middle;\n",
       "    }\n",
       "\n",
       "    .dataframe tbody tr th {\n",
       "        vertical-align: top;\n",
       "    }\n",
       "\n",
       "    .dataframe thead th {\n",
       "        text-align: right;\n",
       "    }\n",
       "</style>\n",
       "<table border=\"1\" class=\"dataframe\">\n",
       "  <thead>\n",
       "    <tr style=\"text-align: right;\">\n",
       "      <th></th>\n",
       "      <th>project_id</th>\n",
       "      <th>project_name</th>\n",
       "      <th>project_type_name</th>\n",
       "      <th>dept_name</th>\n",
       "      <th>dept_sub_name</th>\n",
       "      <th>purchase_method_group_name</th>\n",
       "      <th>announce_date</th>\n",
       "      <th>project_money</th>\n",
       "      <th>price_build</th>\n",
       "      <th>sum_price_agree</th>\n",
       "      <th>budget_year</th>\n",
       "      <th>transaction_date</th>\n",
       "      <th>province</th>\n",
       "      <th>district</th>\n",
       "      <th>subdistrict</th>\n",
       "      <th>project_status</th>\n",
       "      <th>geom</th>\n",
       "      <th>contract</th>\n",
       "    </tr>\n",
       "  </thead>\n",
       "  <tbody>\n",
       "    <tr>\n",
       "      <th>0</th>\n",
       "      <td>60085110634</td>\n",
       "      <td>เช่าเครื่องและอุปกรณ์เพื่อให้บริการโทรคมนาคม เ...</td>\n",
       "      <td>เช่า</td>\n",
       "      <td>บริษัท ทีโอที จำกัด (มหาชน)</td>\n",
       "      <td>ส่วนพัสดุ หน่วยธุรกิจสื่อสารไร้สาย</td>\n",
       "      <td>พิเศษ</td>\n",
       "      <td>-</td>\n",
       "      <td>97,572,658,000</td>\n",
       "      <td>97,572,658,000</td>\n",
       "      <td>97,572,658,000</td>\n",
       "      <td>2562</td>\n",
       "      <td>5 ธ.ค. 61</td>\n",
       "      <td>กรุงเทพมหานคร</td>\n",
       "      <td>หลักสี่</td>\n",
       "      <td>ทุ่งสองห้อง</td>\n",
       "      <td>ระหว่างดำเนินการ</td>\n",
       "      <td></td>\n",
       "      <td>[{'winner_tin': '0105548115901', 'winner': 'บร...</td>\n",
       "    </tr>\n",
       "    <tr>\n",
       "      <th>1</th>\n",
       "      <td>61097014409</td>\n",
       "      <td>ประกวดราคาจ้างก่อสร้างโรงงานผลิตยารังสิต ระยะท...</td>\n",
       "      <td>จ้างก่อสร้าง</td>\n",
       "      <td>องค์การเภสัชกรรม</td>\n",
       "      <td>องค์การเภสัชกรรม(กองจัดซื้อทั่วไป)</td>\n",
       "      <td>ประกวดราคาอิเล็กทรอนิกส์ (e-bidding)</td>\n",
       "      <td>12 ต.ค. 61</td>\n",
       "      <td>5,734,344,000</td>\n",
       "      <td>5,490,773,188</td>\n",
       "      <td>5,264,000,000</td>\n",
       "      <td>2562</td>\n",
       "      <td>24 มิ.ย. 62</td>\n",
       "      <td>กรุงเทพมหานคร</td>\n",
       "      <td>ราชเทวี</td>\n",
       "      <td>ทุ่งพญาไท</td>\n",
       "      <td>ระหว่างดำเนินการ</td>\n",
       "      <td>POINT(100.836778879166 14.0580645003046)</td>\n",
       "      <td>[{'winner_tin': '0107545000217', 'winner': 'บร...</td>\n",
       "    </tr>\n",
       "    <tr>\n",
       "      <th>2</th>\n",
       "      <td>61127463277</td>\n",
       "      <td>ประกวดราคาจ้างก่อสร้างงานจ้างเหมาโครงการก่อสร้...</td>\n",
       "      <td>จ้างก่อสร้าง</td>\n",
       "      <td>กรมทางหลวง</td>\n",
       "      <td>กรมทางหลวง กรุงเทพฯ</td>\n",
       "      <td>ประกวดราคาอิเล็กทรอนิกส์ (e-bidding)</td>\n",
       "      <td>17 ม.ค. 62</td>\n",
       "      <td>4,000,000,000</td>\n",
       "      <td>3,998,992,334</td>\n",
       "      <td>3,994,400,000</td>\n",
       "      <td>2562</td>\n",
       "      <td>27 ส.ค. 62</td>\n",
       "      <td>กรุงเทพมหานคร</td>\n",
       "      <td>ราชเทวี</td>\n",
       "      <td>ทุ่งพญาไท</td>\n",
       "      <td>ระหว่างดำเนินการ</td>\n",
       "      <td>POINT(100.387412309647 13.6200794350437)</td>\n",
       "      <td>[{'winner_tin': '0993000413881', 'winner': 'กิ...</td>\n",
       "    </tr>\n",
       "    <tr>\n",
       "      <th>3</th>\n",
       "      <td>62017178375</td>\n",
       "      <td>ประกวดราคาจ้างก่อสร้างงานจ้างเหมาโครงการก่อสร้...</td>\n",
       "      <td>จ้างก่อสร้าง</td>\n",
       "      <td>กรมทางหลวง</td>\n",
       "      <td>กรมทางหลวง กรุงเทพฯ</td>\n",
       "      <td>ประกวดราคาอิเล็กทรอนิกส์ (e-bidding)</td>\n",
       "      <td>17 ม.ค. 62</td>\n",
       "      <td>4,000,000,000</td>\n",
       "      <td>3,998,882,232</td>\n",
       "      <td>3,991,986,000</td>\n",
       "      <td>2562</td>\n",
       "      <td>27 ส.ค. 62</td>\n",
       "      <td>กรุงเทพมหานคร</td>\n",
       "      <td>ราชเทวี</td>\n",
       "      <td>ทุ่งพญาไท</td>\n",
       "      <td>ระหว่างดำเนินการ</td>\n",
       "      <td>POINT(100.365927815437 13.5983352725177)</td>\n",
       "      <td>[{'winner_tin': '0105522017472', 'winner': 'บร...</td>\n",
       "    </tr>\n",
       "    <tr>\n",
       "      <th>4</th>\n",
       "      <td>62037453909</td>\n",
       "      <td>ซื้อโครงการ CAPD และ EPO จำนวน 2 รายการ โดยวิธ...</td>\n",
       "      <td>ซื้อ</td>\n",
       "      <td>โรงพยาบาลราชวิถี</td>\n",
       "      <td>โรงพยาบาลราชวิถี</td>\n",
       "      <td>เฉพาะเจาะจง</td>\n",
       "      <td>-</td>\n",
       "      <td>3,434,780,026</td>\n",
       "      <td>3,434,780,026</td>\n",
       "      <td>3,434,780,026</td>\n",
       "      <td>2562</td>\n",
       "      <td>1 เม.ย. 62</td>\n",
       "      <td>กรุงเทพมหานคร</td>\n",
       "      <td>ราชเทวี</td>\n",
       "      <td>ทุ่งพญาไท</td>\n",
       "      <td>ระหว่างดำเนินการ</td>\n",
       "      <td></td>\n",
       "      <td>[{'winner_tin': '0994000165315', 'winner': 'อง...</td>\n",
       "    </tr>\n",
       "  </tbody>\n",
       "</table>\n",
       "</div>"
      ],
      "text/plain": [
       "    project_id                                       project_name  \\\n",
       "0  60085110634  เช่าเครื่องและอุปกรณ์เพื่อให้บริการโทรคมนาคม เ...   \n",
       "1  61097014409  ประกวดราคาจ้างก่อสร้างโรงงานผลิตยารังสิต ระยะท...   \n",
       "2  61127463277  ประกวดราคาจ้างก่อสร้างงานจ้างเหมาโครงการก่อสร้...   \n",
       "3  62017178375  ประกวดราคาจ้างก่อสร้างงานจ้างเหมาโครงการก่อสร้...   \n",
       "4  62037453909  ซื้อโครงการ CAPD และ EPO จำนวน 2 รายการ โดยวิธ...   \n",
       "\n",
       "  project_type_name                    dept_name  \\\n",
       "0              เช่า  บริษัท ทีโอที จำกัด (มหาชน)   \n",
       "1      จ้างก่อสร้าง             องค์การเภสัชกรรม   \n",
       "2      จ้างก่อสร้าง                   กรมทางหลวง   \n",
       "3      จ้างก่อสร้าง                   กรมทางหลวง   \n",
       "4              ซื้อ             โรงพยาบาลราชวิถี   \n",
       "\n",
       "                        dept_sub_name            purchase_method_group_name  \\\n",
       "0  ส่วนพัสดุ หน่วยธุรกิจสื่อสารไร้สาย                                 พิเศษ   \n",
       "1  องค์การเภสัชกรรม(กองจัดซื้อทั่วไป)  ประกวดราคาอิเล็กทรอนิกส์ (e-bidding)   \n",
       "2                 กรมทางหลวง กรุงเทพฯ  ประกวดราคาอิเล็กทรอนิกส์ (e-bidding)   \n",
       "3                 กรมทางหลวง กรุงเทพฯ  ประกวดราคาอิเล็กทรอนิกส์ (e-bidding)   \n",
       "4                    โรงพยาบาลราชวิถี                           เฉพาะเจาะจง   \n",
       "\n",
       "  announce_date   project_money     price_build sum_price_agree budget_year  \\\n",
       "0             -  97,572,658,000  97,572,658,000  97,572,658,000        2562   \n",
       "1    12 ต.ค. 61   5,734,344,000   5,490,773,188   5,264,000,000        2562   \n",
       "2    17 ม.ค. 62   4,000,000,000   3,998,992,334   3,994,400,000        2562   \n",
       "3    17 ม.ค. 62   4,000,000,000   3,998,882,232   3,991,986,000        2562   \n",
       "4             -   3,434,780,026   3,434,780,026   3,434,780,026        2562   \n",
       "\n",
       "  transaction_date       province district  subdistrict    project_status  \\\n",
       "0        5 ธ.ค. 61  กรุงเทพมหานคร  หลักสี่  ทุ่งสองห้อง  ระหว่างดำเนินการ   \n",
       "1      24 มิ.ย. 62  กรุงเทพมหานคร  ราชเทวี    ทุ่งพญาไท  ระหว่างดำเนินการ   \n",
       "2       27 ส.ค. 62  กรุงเทพมหานคร  ราชเทวี    ทุ่งพญาไท  ระหว่างดำเนินการ   \n",
       "3       27 ส.ค. 62  กรุงเทพมหานคร  ราชเทวี    ทุ่งพญาไท  ระหว่างดำเนินการ   \n",
       "4       1 เม.ย. 62  กรุงเทพมหานคร  ราชเทวี    ทุ่งพญาไท  ระหว่างดำเนินการ   \n",
       "\n",
       "                                       geom  \\\n",
       "0                                             \n",
       "1  POINT(100.836778879166 14.0580645003046)   \n",
       "2  POINT(100.387412309647 13.6200794350437)   \n",
       "3  POINT(100.365927815437 13.5983352725177)   \n",
       "4                                             \n",
       "\n",
       "                                            contract  \n",
       "0  [{'winner_tin': '0105548115901', 'winner': 'บร...  \n",
       "1  [{'winner_tin': '0107545000217', 'winner': 'บร...  \n",
       "2  [{'winner_tin': '0993000413881', 'winner': 'กิ...  \n",
       "3  [{'winner_tin': '0105522017472', 'winner': 'บร...  \n",
       "4  [{'winner_tin': '0994000165315', 'winner': 'อง...  "
      ]
     },
     "execution_count": 40,
     "metadata": {},
     "output_type": "execute_result"
    }
   ],
   "source": [
    "df_project.head()"
   ]
  },
  {
   "cell_type": "code",
   "execution_count": 41,
   "metadata": {},
   "outputs": [],
   "source": [
    "df_project.to_pickle('Raw_project.pkl')\n",
    "df_contract.to_pickle('Raw_contract.pkl')"
   ]
  },
  {
   "cell_type": "code",
   "execution_count": 361,
   "metadata": {},
   "outputs": [],
   "source": [
    "\n",
    "project_type_name_th = df.project_type_name.unique()\n",
    "project_type_name_th = ['จ้างทำของ/จ้างเหมาบริการ', 'จ้างก่อสร้าง', 'เช่า', 'ซื้อ','จ้างที่ปรึกษา']\n",
    "project_type_name_eng = ['Contracting services / Contracting services', 'Hire for construction',\n",
    "                         'hire','buy','Hire a consultant']\n",
    "project_type_name_dict = dict(zip(project_type_name_th,project_type_name_eng))\n",
    "\n",
    "\n",
    "dept_name_th = ['กองทัพเรือ', 'กองทัพอากาศ', 'การไฟฟ้าส่วนภูมิภาค',\n",
    "       'การทางพิเศษแห่งประเทศไทย', 'การไฟฟ้าฝ่ายผลิตแห่งประเทศไทย',\n",
    "       'สำนักงานตำรวจแห่งชาติ', 'กรมทางหลวง',\n",
    "       'สำนักงานปลัดกระทรวงการคลัง', 'กรมชลประทาน',\n",
    "       'การรถไฟฟ้าขนส่งมวลชนแห่งประเทศไทย', 'สถาบันการบินพลเรือน',\n",
    "       'กรมการขนส่งทางบก', 'กรมท่าอากาศยาน', 'การประปาส่วนภูมิภาค',\n",
    "       'กรมฝนหลวงและการบินเกษตร', 'สำนักงานหลักประกันสุขภาพแห่งชาติ',\n",
    "       'สำนักงานปลัดกระทรวงกลาโหม', 'กองบัญชาการกองทัพไทย',\n",
    "       'สถาบันเทคโนโลยีนิวเคลียร์แห่งชาติ (องค์การมหาชน)',\n",
    "       'กรมประชาสัมพันธ์', 'กรมบัญชีกลาง']\n",
    "\n",
    "dept_name_eng = ['Navy', 'Air Force', 'Provincial Electricity Authority',\n",
    "    'Expressway Authority of Thailand', 'Electricity Generating Authority of Thailand',\n",
    "    'National Police Agency', 'Department of Highways',\n",
    "    'Office of the Permanent Secretary for Finance', 'Irrigation Department',\n",
    "    'Mass Rapid Transit Authority of Thailand', 'Civil Aviation Training Center',\n",
    "    'Department of Land Transport', 'Department of Airport', 'Provincial Waterworks Authority',\n",
    "    'Department of Royal Rainmaking and Agricultural Aviation', 'National Health Security Office',\n",
    "    'Office of the Permanent Secretary for Defense', 'Thai Armed Forces Headquarters',\n",
    "    'National Institute of Nuclear Technology (Public organization) ',\n",
    "    'Public Relations Department', 'Comptroller Generals Department']\n",
    "\n",
    "\n"
   ]
  },
  {
   "cell_type": "code",
   "execution_count": 345,
   "metadata": {},
   "outputs": [],
   "source": [
    "df_project_temp = df_project.replace(project_type_name_th,['Contracting services / Contracting services', 'Hire for construction',\n",
    "                         'hire','buy','Hire a consultant'])"
   ]
  },
  {
   "cell_type": "code",
   "execution_count": 12,
   "metadata": {},
   "outputs": [],
   "source": [
    "df_project_temp = pd.read_pickle('2558_project.pkl')"
   ]
  }
 ],
 "metadata": {
  "kernelspec": {
   "display_name": "Python 3",
   "language": "python",
   "name": "python3"
  },
  "language_info": {
   "codemirror_mode": {
    "name": "ipython",
    "version": 3
   },
   "file_extension": ".py",
   "mimetype": "text/x-python",
   "name": "python",
   "nbconvert_exporter": "python",
   "pygments_lexer": "ipython3",
   "version": "3.7.6"
  }
 },
 "nbformat": 4,
 "nbformat_minor": 4
}
